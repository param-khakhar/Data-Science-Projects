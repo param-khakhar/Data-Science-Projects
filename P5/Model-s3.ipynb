{
 "cells": [
  {
   "cell_type": "code",
   "execution_count": 1,
   "metadata": {},
   "outputs": [],
   "source": [
    "import pandas as pd\n",
    "import gc\n",
    "import time\n",
    "import pickle\n",
    "from matplotlib import pyplot as plt\n",
    "%matplotlib inline\n",
    "\n",
    "from xgboost import XGBRegressor\n",
    "from xgboost import plot_importance\n",
    "\n",
    "from sklearn.preprocessing import LabelEncoder"
   ]
  },
  {
   "cell_type": "code",
   "execution_count": 2,
   "metadata": {},
   "outputs": [],
   "source": [
    "data = pd.read_pickle('data.pkl')"
   ]
  },
  {
   "cell_type": "code",
   "execution_count": 3,
   "metadata": {},
   "outputs": [
    {
     "data": {
      "text/plain": [
       "item_id                               int64\n",
       "shop_id                               int64\n",
       "date_block_num                        int64\n",
       "month                                 int64\n",
       "item_cnt_month                      float64\n",
       "town                                 object\n",
       "item_category_id                      int64\n",
       "meta_category                        object\n",
       "year                                  int64\n",
       "date_avg_item_cnt_lag_1             float64\n",
       "date_cat_avg_item_cnt_lag_1         float64\n",
       "date_shop_cat_avg_item_cnt_lag_1    float64\n",
       "dtype: object"
      ]
     },
     "execution_count": 3,
     "metadata": {},
     "output_type": "execute_result"
    }
   ],
   "source": [
    "data.dtypes"
   ]
  },
  {
   "cell_type": "code",
   "execution_count": 4,
   "metadata": {},
   "outputs": [],
   "source": [
    "data['town_code'] = LabelEncoder().fit_transform(data['town'])\n",
    "data['meta_category_code'] = LabelEncoder().fit_transform(data['meta_category'])"
   ]
  },
  {
   "cell_type": "code",
   "execution_count": 5,
   "metadata": {},
   "outputs": [
    {
     "data": {
      "text/plain": [
       "item_id                               int64\n",
       "shop_id                               int64\n",
       "date_block_num                        int64\n",
       "month                                 int64\n",
       "item_cnt_month                      float64\n",
       "town                                 object\n",
       "item_category_id                      int64\n",
       "meta_category                        object\n",
       "year                                  int64\n",
       "date_avg_item_cnt_lag_1             float64\n",
       "date_cat_avg_item_cnt_lag_1         float64\n",
       "date_shop_cat_avg_item_cnt_lag_1    float64\n",
       "town_code                             int64\n",
       "meta_category_code                    int64\n",
       "dtype: object"
      ]
     },
     "execution_count": 5,
     "metadata": {},
     "output_type": "execute_result"
    }
   ],
   "source": [
    "data.dtypes"
   ]
  },
  {
   "cell_type": "code",
   "execution_count": 6,
   "metadata": {},
   "outputs": [],
   "source": [
    "data.drop(\"town\",axis = 1,inplace = True)\n",
    "data.drop(\"meta_category\",axis = 1,inplace = True)"
   ]
  },
  {
   "cell_type": "code",
   "execution_count": 7,
   "metadata": {},
   "outputs": [],
   "source": [
    "X_train = data[data.date_block_num < 33].drop(['item_cnt_month'], axis=1)\n",
    "Y_train = data[data.date_block_num < 33]['item_cnt_month']\n",
    "X_valid = data[data.date_block_num == 33].drop(['item_cnt_month'], axis=1)\n",
    "Y_valid = data[data.date_block_num == 33]['item_cnt_month']\n",
    "X_test = data[data.date_block_num == 34].drop(['item_cnt_month'], axis=1)"
   ]
  },
  {
   "cell_type": "code",
   "execution_count": 8,
   "metadata": {},
   "outputs": [],
   "source": [
    "del data\n",
    "gc.collect();"
   ]
  },
  {
   "cell_type": "code",
   "execution_count": 23,
   "metadata": {},
   "outputs": [
    {
     "name": "stdout",
     "output_type": "stream",
     "text": [
      "[17:16:18] WARNING: /home/conda/feedstock_root/build_artifacts/xgboost_1588600955503/work/src/gbm/gbtree.cc:138: Tree method is automatically selected to be 'approx' for faster speed. To use old behavior (exact greedy algorithm on single machine), set tree_method to 'exact'.\n",
      "[0]\tvalidation_0-rmse:1.19039\tvalidation_1-rmse:1.11517\n",
      "Multiple eval metrics have been passed: 'validation_1-rmse' will be used for early stopping.\n",
      "\n",
      "Will train until validation_1-rmse hasn't improved in 10 rounds.\n",
      "[1]\tvalidation_0-rmse:1.15599\tvalidation_1-rmse:1.07390\n",
      "[2]\tvalidation_0-rmse:1.13283\tvalidation_1-rmse:1.05629\n",
      "[3]\tvalidation_0-rmse:1.11985\tvalidation_1-rmse:1.04610\n",
      "[4]\tvalidation_0-rmse:1.11286\tvalidation_1-rmse:1.04284\n",
      "[5]\tvalidation_0-rmse:1.10781\tvalidation_1-rmse:1.04482\n",
      "[6]\tvalidation_0-rmse:1.10509\tvalidation_1-rmse:1.04151\n",
      "[7]\tvalidation_0-rmse:1.10322\tvalidation_1-rmse:1.04100\n",
      "[8]\tvalidation_0-rmse:1.10133\tvalidation_1-rmse:1.03955\n",
      "[9]\tvalidation_0-rmse:1.09952\tvalidation_1-rmse:1.03916\n",
      "[10]\tvalidation_0-rmse:1.09843\tvalidation_1-rmse:1.03855\n",
      "[11]\tvalidation_0-rmse:1.09667\tvalidation_1-rmse:1.03713\n",
      "[12]\tvalidation_0-rmse:1.09590\tvalidation_1-rmse:1.03594\n",
      "[13]\tvalidation_0-rmse:1.09412\tvalidation_1-rmse:1.03425\n",
      "[14]\tvalidation_0-rmse:1.09317\tvalidation_1-rmse:1.03339\n",
      "[15]\tvalidation_0-rmse:1.09285\tvalidation_1-rmse:1.03342\n",
      "[16]\tvalidation_0-rmse:1.09217\tvalidation_1-rmse:1.03329\n",
      "[17]\tvalidation_0-rmse:1.09102\tvalidation_1-rmse:1.03088\n",
      "[18]\tvalidation_0-rmse:1.09075\tvalidation_1-rmse:1.03075\n",
      "[19]\tvalidation_0-rmse:1.08979\tvalidation_1-rmse:1.03017\n",
      "[20]\tvalidation_0-rmse:1.08846\tvalidation_1-rmse:1.02851\n",
      "[21]\tvalidation_0-rmse:1.08766\tvalidation_1-rmse:1.02790\n",
      "[22]\tvalidation_0-rmse:1.08714\tvalidation_1-rmse:1.02724\n",
      "[23]\tvalidation_0-rmse:1.08670\tvalidation_1-rmse:1.02719\n",
      "[24]\tvalidation_0-rmse:1.08588\tvalidation_1-rmse:1.02441\n",
      "[25]\tvalidation_0-rmse:1.08323\tvalidation_1-rmse:1.02263\n",
      "[26]\tvalidation_0-rmse:1.08219\tvalidation_1-rmse:1.02235\n",
      "[27]\tvalidation_0-rmse:1.08151\tvalidation_1-rmse:1.02127\n",
      "[28]\tvalidation_0-rmse:1.08104\tvalidation_1-rmse:1.02134\n",
      "[29]\tvalidation_0-rmse:1.08071\tvalidation_1-rmse:1.02108\n",
      "[30]\tvalidation_0-rmse:1.07920\tvalidation_1-rmse:1.02024\n",
      "[31]\tvalidation_0-rmse:1.07887\tvalidation_1-rmse:1.02052\n",
      "[32]\tvalidation_0-rmse:1.07822\tvalidation_1-rmse:1.02010\n",
      "[33]\tvalidation_0-rmse:1.07804\tvalidation_1-rmse:1.02032\n",
      "[34]\tvalidation_0-rmse:1.07782\tvalidation_1-rmse:1.01972\n",
      "[35]\tvalidation_0-rmse:1.07741\tvalidation_1-rmse:1.01942\n",
      "[36]\tvalidation_0-rmse:1.07682\tvalidation_1-rmse:1.01957\n",
      "[37]\tvalidation_0-rmse:1.07596\tvalidation_1-rmse:1.01971\n",
      "[38]\tvalidation_0-rmse:1.07567\tvalidation_1-rmse:1.01968\n",
      "[39]\tvalidation_0-rmse:1.07541\tvalidation_1-rmse:1.01942\n",
      "[40]\tvalidation_0-rmse:1.07488\tvalidation_1-rmse:1.01710\n",
      "[41]\tvalidation_0-rmse:1.07404\tvalidation_1-rmse:1.01709\n",
      "[42]\tvalidation_0-rmse:1.07341\tvalidation_1-rmse:1.01693\n",
      "[43]\tvalidation_0-rmse:1.07287\tvalidation_1-rmse:1.01515\n",
      "[44]\tvalidation_0-rmse:1.07253\tvalidation_1-rmse:1.01637\n",
      "[45]\tvalidation_0-rmse:1.07221\tvalidation_1-rmse:1.01636\n",
      "[46]\tvalidation_0-rmse:1.07213\tvalidation_1-rmse:1.01637\n",
      "[47]\tvalidation_0-rmse:1.07164\tvalidation_1-rmse:1.01636\n",
      "[48]\tvalidation_0-rmse:1.07141\tvalidation_1-rmse:1.01601\n",
      "[49]\tvalidation_0-rmse:1.07136\tvalidation_1-rmse:1.01567\n",
      "[50]\tvalidation_0-rmse:1.07102\tvalidation_1-rmse:1.01558\n",
      "[51]\tvalidation_0-rmse:1.07087\tvalidation_1-rmse:1.01537\n",
      "[52]\tvalidation_0-rmse:1.07072\tvalidation_1-rmse:1.01522\n",
      "[53]\tvalidation_0-rmse:1.07053\tvalidation_1-rmse:1.01502\n",
      "[54]\tvalidation_0-rmse:1.07005\tvalidation_1-rmse:1.01479\n",
      "[55]\tvalidation_0-rmse:1.06985\tvalidation_1-rmse:1.01520\n",
      "[56]\tvalidation_0-rmse:1.06938\tvalidation_1-rmse:1.01221\n",
      "[57]\tvalidation_0-rmse:1.06905\tvalidation_1-rmse:1.01180\n",
      "[58]\tvalidation_0-rmse:1.06866\tvalidation_1-rmse:1.01093\n",
      "[59]\tvalidation_0-rmse:1.06851\tvalidation_1-rmse:1.01107\n",
      "[60]\tvalidation_0-rmse:1.06821\tvalidation_1-rmse:1.01079\n",
      "[61]\tvalidation_0-rmse:1.06751\tvalidation_1-rmse:1.01022\n",
      "[62]\tvalidation_0-rmse:1.06682\tvalidation_1-rmse:1.01047\n",
      "[63]\tvalidation_0-rmse:1.06672\tvalidation_1-rmse:1.01079\n",
      "[64]\tvalidation_0-rmse:1.06643\tvalidation_1-rmse:1.01093\n",
      "[65]\tvalidation_0-rmse:1.06582\tvalidation_1-rmse:1.01148\n",
      "[66]\tvalidation_0-rmse:1.06549\tvalidation_1-rmse:1.01110\n",
      "[67]\tvalidation_0-rmse:1.06534\tvalidation_1-rmse:1.00980\n",
      "[68]\tvalidation_0-rmse:1.06475\tvalidation_1-rmse:1.00948\n",
      "[69]\tvalidation_0-rmse:1.06453\tvalidation_1-rmse:1.00968\n",
      "[70]\tvalidation_0-rmse:1.06432\tvalidation_1-rmse:1.00951\n",
      "[71]\tvalidation_0-rmse:1.06408\tvalidation_1-rmse:1.00953\n",
      "[72]\tvalidation_0-rmse:1.06393\tvalidation_1-rmse:1.00929\n",
      "[73]\tvalidation_0-rmse:1.06390\tvalidation_1-rmse:1.00929\n",
      "[74]\tvalidation_0-rmse:1.06339\tvalidation_1-rmse:1.00866\n",
      "[75]\tvalidation_0-rmse:1.06319\tvalidation_1-rmse:1.00845\n",
      "[76]\tvalidation_0-rmse:1.06298\tvalidation_1-rmse:1.00810\n",
      "[77]\tvalidation_0-rmse:1.06289\tvalidation_1-rmse:1.00798\n",
      "[78]\tvalidation_0-rmse:1.06256\tvalidation_1-rmse:1.00847\n",
      "[79]\tvalidation_0-rmse:1.06238\tvalidation_1-rmse:1.00813\n",
      "[80]\tvalidation_0-rmse:1.06217\tvalidation_1-rmse:1.00811\n",
      "[81]\tvalidation_0-rmse:1.06205\tvalidation_1-rmse:1.00757\n",
      "[82]\tvalidation_0-rmse:1.06156\tvalidation_1-rmse:1.00776\n",
      "[83]\tvalidation_0-rmse:1.06148\tvalidation_1-rmse:1.00770\n",
      "[84]\tvalidation_0-rmse:1.06144\tvalidation_1-rmse:1.00772\n",
      "[85]\tvalidation_0-rmse:1.06125\tvalidation_1-rmse:1.00779\n",
      "[86]\tvalidation_0-rmse:1.06111\tvalidation_1-rmse:1.00751\n",
      "[87]\tvalidation_0-rmse:1.06100\tvalidation_1-rmse:1.00746\n",
      "[88]\tvalidation_0-rmse:1.06082\tvalidation_1-rmse:1.00743\n",
      "[89]\tvalidation_0-rmse:1.06069\tvalidation_1-rmse:1.00737\n",
      "[90]\tvalidation_0-rmse:1.06059\tvalidation_1-rmse:1.00751\n",
      "[91]\tvalidation_0-rmse:1.06053\tvalidation_1-rmse:1.00751\n",
      "[92]\tvalidation_0-rmse:1.06039\tvalidation_1-rmse:1.00753\n",
      "[93]\tvalidation_0-rmse:1.06030\tvalidation_1-rmse:1.00729\n",
      "[94]\tvalidation_0-rmse:1.06010\tvalidation_1-rmse:1.00701\n",
      "[95]\tvalidation_0-rmse:1.05992\tvalidation_1-rmse:1.00671\n",
      "[96]\tvalidation_0-rmse:1.05987\tvalidation_1-rmse:1.00668\n",
      "[97]\tvalidation_0-rmse:1.05984\tvalidation_1-rmse:1.00680\n",
      "[98]\tvalidation_0-rmse:1.05966\tvalidation_1-rmse:1.00674\n",
      "[99]\tvalidation_0-rmse:1.05957\tvalidation_1-rmse:1.00671\n",
      "[100]\tvalidation_0-rmse:1.05936\tvalidation_1-rmse:1.00641\n",
      "[101]\tvalidation_0-rmse:1.05922\tvalidation_1-rmse:1.00593\n",
      "[102]\tvalidation_0-rmse:1.05897\tvalidation_1-rmse:1.00602\n",
      "[103]\tvalidation_0-rmse:1.05883\tvalidation_1-rmse:1.00597\n",
      "[104]\tvalidation_0-rmse:1.05875\tvalidation_1-rmse:1.00539\n",
      "[105]\tvalidation_0-rmse:1.05869\tvalidation_1-rmse:1.00535\n",
      "[106]\tvalidation_0-rmse:1.05831\tvalidation_1-rmse:1.00507\n",
      "[107]\tvalidation_0-rmse:1.05828\tvalidation_1-rmse:1.00505\n",
      "[108]\tvalidation_0-rmse:1.05808\tvalidation_1-rmse:1.00489\n",
      "[109]\tvalidation_0-rmse:1.05801\tvalidation_1-rmse:1.00482\n",
      "[110]\tvalidation_0-rmse:1.05796\tvalidation_1-rmse:1.00486\n",
      "[111]\tvalidation_0-rmse:1.05781\tvalidation_1-rmse:1.00488\n",
      "[112]\tvalidation_0-rmse:1.05768\tvalidation_1-rmse:1.00481\n",
      "[113]\tvalidation_0-rmse:1.05747\tvalidation_1-rmse:1.00492\n",
      "[114]\tvalidation_0-rmse:1.05733\tvalidation_1-rmse:1.00458\n",
      "[115]\tvalidation_0-rmse:1.05711\tvalidation_1-rmse:1.00534\n",
      "[116]\tvalidation_0-rmse:1.05704\tvalidation_1-rmse:1.00558\n",
      "[117]\tvalidation_0-rmse:1.05695\tvalidation_1-rmse:1.00547\n",
      "[118]\tvalidation_0-rmse:1.05678\tvalidation_1-rmse:1.00510\n",
      "[119]\tvalidation_0-rmse:1.05657\tvalidation_1-rmse:1.00319\n",
      "[120]\tvalidation_0-rmse:1.05650\tvalidation_1-rmse:1.00325\n",
      "[121]\tvalidation_0-rmse:1.05618\tvalidation_1-rmse:1.00317\n",
      "[122]\tvalidation_0-rmse:1.05561\tvalidation_1-rmse:1.00300\n",
      "[123]\tvalidation_0-rmse:1.05510\tvalidation_1-rmse:1.00211\n",
      "[124]\tvalidation_0-rmse:1.05502\tvalidation_1-rmse:1.00208\n",
      "[125]\tvalidation_0-rmse:1.05497\tvalidation_1-rmse:1.00207\n",
      "[126]\tvalidation_0-rmse:1.05479\tvalidation_1-rmse:1.00201\n",
      "[127]\tvalidation_0-rmse:1.05456\tvalidation_1-rmse:1.00188\n",
      "[128]\tvalidation_0-rmse:1.05448\tvalidation_1-rmse:1.00184\n",
      "[129]\tvalidation_0-rmse:1.05405\tvalidation_1-rmse:1.00200\n",
      "[130]\tvalidation_0-rmse:1.05375\tvalidation_1-rmse:1.00147\n",
      "[131]\tvalidation_0-rmse:1.05369\tvalidation_1-rmse:1.00143\n",
      "[132]\tvalidation_0-rmse:1.05366\tvalidation_1-rmse:1.00164\n",
      "[133]\tvalidation_0-rmse:1.05360\tvalidation_1-rmse:1.00161\n",
      "[134]\tvalidation_0-rmse:1.05350\tvalidation_1-rmse:1.00142\n",
      "[135]\tvalidation_0-rmse:1.05340\tvalidation_1-rmse:1.00147\n"
     ]
    },
    {
     "name": "stdout",
     "output_type": "stream",
     "text": [
      "[136]\tvalidation_0-rmse:1.05321\tvalidation_1-rmse:1.00063\n",
      "[137]\tvalidation_0-rmse:1.05310\tvalidation_1-rmse:1.00073\n",
      "[138]\tvalidation_0-rmse:1.05291\tvalidation_1-rmse:1.00063\n",
      "[139]\tvalidation_0-rmse:1.05285\tvalidation_1-rmse:1.00071\n",
      "[140]\tvalidation_0-rmse:1.05273\tvalidation_1-rmse:1.00065\n",
      "[141]\tvalidation_0-rmse:1.05246\tvalidation_1-rmse:1.00057\n",
      "[142]\tvalidation_0-rmse:1.05240\tvalidation_1-rmse:1.00052\n",
      "[143]\tvalidation_0-rmse:1.05234\tvalidation_1-rmse:1.00030\n",
      "[144]\tvalidation_0-rmse:1.05232\tvalidation_1-rmse:1.00052\n",
      "[145]\tvalidation_0-rmse:1.05225\tvalidation_1-rmse:1.00055\n",
      "[146]\tvalidation_0-rmse:1.05190\tvalidation_1-rmse:1.00010\n",
      "[147]\tvalidation_0-rmse:1.05181\tvalidation_1-rmse:0.99986\n",
      "[148]\tvalidation_0-rmse:1.05175\tvalidation_1-rmse:0.99985\n",
      "[149]\tvalidation_0-rmse:1.05151\tvalidation_1-rmse:1.00066\n",
      "[150]\tvalidation_0-rmse:1.05148\tvalidation_1-rmse:1.00067\n",
      "[151]\tvalidation_0-rmse:1.05142\tvalidation_1-rmse:1.00061\n",
      "[152]\tvalidation_0-rmse:1.05138\tvalidation_1-rmse:1.00088\n",
      "[153]\tvalidation_0-rmse:1.05117\tvalidation_1-rmse:1.00114\n",
      "[154]\tvalidation_0-rmse:1.05109\tvalidation_1-rmse:1.00108\n",
      "[155]\tvalidation_0-rmse:1.05063\tvalidation_1-rmse:1.00112\n",
      "[156]\tvalidation_0-rmse:1.05052\tvalidation_1-rmse:1.00117\n",
      "[157]\tvalidation_0-rmse:1.05035\tvalidation_1-rmse:1.00137\n",
      "[158]\tvalidation_0-rmse:1.05030\tvalidation_1-rmse:1.00150\n",
      "Stopping. Best iteration:\n",
      "[148]\tvalidation_0-rmse:1.05175\tvalidation_1-rmse:0.99985\n",
      "\n"
     ]
    },
    {
     "data": {
      "text/plain": [
       "1678.9370441436768"
      ]
     },
     "execution_count": 23,
     "metadata": {},
     "output_type": "execute_result"
    }
   ],
   "source": [
    "ts = time.time()\n",
    "\n",
    "model = XGBRegressor(\n",
    "    max_depth=8,\n",
    "    n_estimators=1000,\n",
    "    min_child_weight=300, \n",
    "    colsample_bytree=0.8, \n",
    "    subsample=0.8, \n",
    "    eta=0.3,    \n",
    "    seed=42)\n",
    "\n",
    "model.fit(\n",
    "    X_train, \n",
    "    Y_train, \n",
    "    eval_metric=\"rmse\", \n",
    "    eval_set=[(X_train, Y_train), (X_valid, Y_valid)], \n",
    "    verbose=True, \n",
    "    early_stopping_rounds = 10)\n",
    "\n",
    "time.time() - ts\n"
   ]
  },
  {
   "cell_type": "code",
   "execution_count": 27,
   "metadata": {},
   "outputs": [],
   "source": [
    "Y_pred = model.predict(X_valid).clip(0, 20)\n",
    "Y_test = model.predict(X_test).clip(0, 20)\n",
    "\n",
    "test = pd.read_csv(\"data/test.csv\")\n",
    "submission = pd.DataFrame({\n",
    "    \"ID\": test.index, \n",
    "    \"item_cnt_month\": Y_test\n",
    "})\n",
    "submission.to_csv('xgb_submission.csv', index=False)\n",
    "\n",
    "# save predictions for an ensemble\n",
    "pickle.dump(Y_pred, open('xgb_train.pickle', 'wb'))\n",
    "pickle.dump(Y_test, open('xgb_test.pickle', 'wb'))"
   ]
  },
  {
   "cell_type": "code",
   "execution_count": 29,
   "metadata": {},
   "outputs": [],
   "source": [
    "def plot_features(booster, figsize):    \n",
    "    fig, ax = plt.subplots(1,1,figsize=figsize)\n",
    "    return plot_importance(booster=booster, ax=ax)"
   ]
  },
  {
   "cell_type": "code",
   "execution_count": 32,
   "metadata": {},
   "outputs": [
    {
     "data": {
      "text/plain": [
       "<matplotlib.axes._subplots.AxesSubplot at 0x7f51d5bc83d0>"
      ]
     },
     "execution_count": 32,
     "metadata": {},
     "output_type": "execute_result"
    },
    {
     "data": {
      "image/png": "[encoded data removed]",
      "text/plain": [
       "<Figure size 720x1008 with 1 Axes>"
      ]
     },
     "metadata": {
      "needs_background": "light"
     },
     "output_type": "display_data"
    }
   ],
   "source": [
    "plot_features(model, (10,14))"
   ]
  },
  {
   "cell_type": "code",
   "execution_count": null,
   "metadata": {},
   "outputs": [],
   "source": []
  }
 ],
 "metadata": {
  "kernelspec": {
   "display_name": "Python 3",
   "language": "python",
   "name": "python3"
  },
  "language_info": {
   "codemirror_mode": {
    "name": "ipython",
    "version": 3
   },
   "file_extension": ".py",
   "mimetype": "text/x-python",
   "name": "python",
   "nbconvert_exporter": "python",
   "pygments_lexer": "ipython3",
   "version": "3.7.4"
  }
 },
 "nbformat": 4,
 "nbformat_minor": 2
}
