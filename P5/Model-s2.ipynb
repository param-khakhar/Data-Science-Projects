{
 "cells": [
  {
   "cell_type": "markdown",
   "metadata": {},
   "source": [
    "## Model Building "
   ]
  },
  {
   "cell_type": "code",
   "execution_count": 1,
   "metadata": {},
   "outputs": [],
   "source": [
    "import numpy as np\n",
    "import pandas as pd\n",
    "from matplotlib import pyplot as plt\n",
    "%matplotlib inline"
   ]
  },
  {
   "cell_type": "code",
   "execution_count": 2,
   "metadata": {},
   "outputs": [],
   "source": [
    "item_categories = pd.read_csv(\"data/item_categories.csv\")\n",
    "items = pd.read_csv(\"data/items.csv\")\n",
    "shops = pd.read_csv(\"final_shops.csv\")\n",
    "sales = pd.read_csv(\"sales.csv\")\n",
    "test = pd.read_csv(\"data/test.csv\")"
   ]
  },
  {
   "cell_type": "markdown",
   "metadata": {},
   "source": [
    "We'd try different possible baselines"
   ]
  },
  {
   "cell_type": "markdown",
   "metadata": {},
   "source": [
    "Predictions based on October 2015"
   ]
  },
  {
   "cell_type": "code",
   "execution_count": 14,
   "metadata": {},
   "outputs": [
    {
     "data": {
      "text/html": [
       "<div>\n",
       "<style scoped>\n",
       "    .dataframe tbody tr th:only-of-type {\n",
       "        vertical-align: middle;\n",
       "    }\n",
       "\n",
       "    .dataframe tbody tr th {\n",
       "        vertical-align: top;\n",
       "    }\n",
       "\n",
       "    .dataframe thead th {\n",
       "        text-align: right;\n",
       "    }\n",
       "</style>\n",
       "<table border=\"1\" class=\"dataframe\">\n",
       "  <thead>\n",
       "    <tr style=\"text-align: right;\">\n",
       "      <th></th>\n",
       "      <th>ID</th>\n",
       "      <th>shop_id</th>\n",
       "      <th>item_id</th>\n",
       "      <th>item_cnt_day</th>\n",
       "    </tr>\n",
       "  </thead>\n",
       "  <tbody>\n",
       "    <tr>\n",
       "      <td>0</td>\n",
       "      <td>0</td>\n",
       "      <td>5</td>\n",
       "      <td>5037</td>\n",
       "      <td>NaN</td>\n",
       "    </tr>\n",
       "    <tr>\n",
       "      <td>1</td>\n",
       "      <td>1</td>\n",
       "      <td>5</td>\n",
       "      <td>5320</td>\n",
       "      <td>NaN</td>\n",
       "    </tr>\n",
       "    <tr>\n",
       "      <td>2</td>\n",
       "      <td>2</td>\n",
       "      <td>5</td>\n",
       "      <td>5233</td>\n",
       "      <td>1.0</td>\n",
       "    </tr>\n",
       "    <tr>\n",
       "      <td>3</td>\n",
       "      <td>3</td>\n",
       "      <td>5</td>\n",
       "      <td>5232</td>\n",
       "      <td>NaN</td>\n",
       "    </tr>\n",
       "    <tr>\n",
       "      <td>4</td>\n",
       "      <td>4</td>\n",
       "      <td>5</td>\n",
       "      <td>5268</td>\n",
       "      <td>NaN</td>\n",
       "    </tr>\n",
       "    <tr>\n",
       "      <td>...</td>\n",
       "      <td>...</td>\n",
       "      <td>...</td>\n",
       "      <td>...</td>\n",
       "      <td>...</td>\n",
       "    </tr>\n",
       "    <tr>\n",
       "      <td>214195</td>\n",
       "      <td>214195</td>\n",
       "      <td>45</td>\n",
       "      <td>18454</td>\n",
       "      <td>1.0</td>\n",
       "    </tr>\n",
       "    <tr>\n",
       "      <td>214196</td>\n",
       "      <td>214196</td>\n",
       "      <td>45</td>\n",
       "      <td>16188</td>\n",
       "      <td>NaN</td>\n",
       "    </tr>\n",
       "    <tr>\n",
       "      <td>214197</td>\n",
       "      <td>214197</td>\n",
       "      <td>45</td>\n",
       "      <td>15757</td>\n",
       "      <td>NaN</td>\n",
       "    </tr>\n",
       "    <tr>\n",
       "      <td>214198</td>\n",
       "      <td>214198</td>\n",
       "      <td>45</td>\n",
       "      <td>19648</td>\n",
       "      <td>NaN</td>\n",
       "    </tr>\n",
       "    <tr>\n",
       "      <td>214199</td>\n",
       "      <td>214199</td>\n",
       "      <td>45</td>\n",
       "      <td>969</td>\n",
       "      <td>NaN</td>\n",
       "    </tr>\n",
       "  </tbody>\n",
       "</table>\n",
       "<p>214200 rows × 4 columns</p>\n",
       "</div>"
      ],
      "text/plain": [
       "            ID  shop_id  item_id  item_cnt_day\n",
       "0            0        5     5037           NaN\n",
       "1            1        5     5320           NaN\n",
       "2            2        5     5233           1.0\n",
       "3            3        5     5232           NaN\n",
       "4            4        5     5268           NaN\n",
       "...        ...      ...      ...           ...\n",
       "214195  214195       45    18454           1.0\n",
       "214196  214196       45    16188           NaN\n",
       "214197  214197       45    15757           NaN\n",
       "214198  214198       45    19648           NaN\n",
       "214199  214199       45      969           NaN\n",
       "\n",
       "[214200 rows x 4 columns]"
      ]
     },
     "execution_count": 14,
     "metadata": {},
     "output_type": "execute_result"
    }
   ],
   "source": [
    "interim= sales[sales[\"date_block_num\"]==33].groupby([\"shop_id\", \"item_id\"],as_index=False).sum()[[\"shop_id\",\"item_id\",\"item_cnt_day\"]]\n",
    "interim[\"item_cnt_day\"].clip(0,20,inplace=True)\n",
    "interim2 = pd.merge(test,interim,how = 'left',left_on = [\"shop_id\",\"item_id\"],right_on = ['shop_id','item_id'])\n",
    "interim2"
   ]
  },
  {
   "cell_type": "code",
   "execution_count": 15,
   "metadata": {},
   "outputs": [],
   "source": [
    "interim2 = interim2[[\"ID\",\"item_cnt_day\"]]"
   ]
  },
  {
   "cell_type": "code",
   "execution_count": 16,
   "metadata": {},
   "outputs": [],
   "source": [
    "interim2.columns = [\"ID\",\"item_cnt_month\"]"
   ]
  },
  {
   "cell_type": "code",
   "execution_count": 17,
   "metadata": {},
   "outputs": [],
   "source": [
    "interim2.fillna(0,inplace = True)"
   ]
  },
  {
   "cell_type": "code",
   "execution_count": 18,
   "metadata": {},
   "outputs": [],
   "source": [
    "interim2.to_csv(\"sub2.csv\",index = False)"
   ]
  },
  {
   "cell_type": "markdown",
   "metadata": {},
   "source": [
    "A score of 1.167777!"
   ]
  },
  {
   "cell_type": "markdown",
   "metadata": {},
   "source": [
    "Testing the hypothesis of seasonal trend in items and thereby using values from Nov 2014."
   ]
  },
  {
   "cell_type": "code",
   "execution_count": 20,
   "metadata": {},
   "outputs": [],
   "source": [
    "interim2 = sales[sales.date_block_num == 22].groupby([\"shop_id\",\"item_id\"],as_index = False).sum()[[\"shop_id\",\"item_id\",\"item_cnt_day\"]]"
   ]
  },
  {
   "cell_type": "code",
   "execution_count": 21,
   "metadata": {},
   "outputs": [],
   "source": [
    "interim2['item_cnt_day'].clip(0,20,inplace = True)"
   ]
  },
  {
   "cell_type": "code",
   "execution_count": 22,
   "metadata": {},
   "outputs": [],
   "source": [
    "interim2 = pd.merge(test,interim2,how = \"left\",left_on = [\"shop_id\",\"item_id\"],right_on = [\"shop_id\",\"item_id\"])\n",
    "interim2 = interim2[[\"ID\",\"item_cnt_day\"]]\n",
    "interim2.columns = [\"ID\",\"item_cnt_month\"]\n",
    "interim2.fillna(0,inplace = True)\n",
    "interim2.to_csv(\"sub3.csv\",index = False)"
   ]
  },
  {
   "cell_type": "markdown",
   "metadata": {},
   "source": [
    "The score for this is 1.60 thereby indicating the presence of FMCG."
   ]
  },
  {
   "cell_type": "markdown",
   "metadata": {},
   "source": [
    "In such scenario we can make predictions based on recent trends."
   ]
  },
  {
   "cell_type": "code",
   "execution_count": 24,
   "metadata": {},
   "outputs": [
    {
     "data": {
      "text/html": [
       "<div>\n",
       "<style scoped>\n",
       "    .dataframe tbody tr th:only-of-type {\n",
       "        vertical-align: middle;\n",
       "    }\n",
       "\n",
       "    .dataframe tbody tr th {\n",
       "        vertical-align: top;\n",
       "    }\n",
       "\n",
       "    .dataframe thead th {\n",
       "        text-align: right;\n",
       "    }\n",
       "</style>\n",
       "<table border=\"1\" class=\"dataframe\">\n",
       "  <thead>\n",
       "    <tr style=\"text-align: right;\">\n",
       "      <th></th>\n",
       "      <th>date</th>\n",
       "      <th>date_block_num</th>\n",
       "      <th>shop_id</th>\n",
       "      <th>item_id</th>\n",
       "      <th>item_price</th>\n",
       "      <th>item_cnt_day</th>\n",
       "      <th>item_name</th>\n",
       "      <th>item_category_id</th>\n",
       "      <th>item_category_name</th>\n",
       "      <th>items_english</th>\n",
       "      <th>meta_category</th>\n",
       "      <th>shop_name</th>\n",
       "      <th>shops_english</th>\n",
       "      <th>town</th>\n",
       "      <th>revenue</th>\n",
       "      <th>year</th>\n",
       "    </tr>\n",
       "  </thead>\n",
       "  <tbody>\n",
       "    <tr>\n",
       "      <td>0</td>\n",
       "      <td>2013-01-02</td>\n",
       "      <td>0</td>\n",
       "      <td>59</td>\n",
       "      <td>22154</td>\n",
       "      <td>999.00</td>\n",
       "      <td>1.0</td>\n",
       "      <td>ЯВЛЕНИЕ 2012 (BD)</td>\n",
       "      <td>37</td>\n",
       "      <td>Кино - Blu-Ray</td>\n",
       "      <td>Kino - Blu-Ray</td>\n",
       "      <td>Kino</td>\n",
       "      <td>Ярославль ТЦ \"Альтаир\"</td>\n",
       "      <td>Aroslavl_ TZ \"Al_tair\"</td>\n",
       "      <td>Aroslavl_</td>\n",
       "      <td>999.00</td>\n",
       "      <td>2013</td>\n",
       "    </tr>\n",
       "    <tr>\n",
       "      <td>1</td>\n",
       "      <td>2013-01-03</td>\n",
       "      <td>0</td>\n",
       "      <td>25</td>\n",
       "      <td>2552</td>\n",
       "      <td>899.00</td>\n",
       "      <td>1.0</td>\n",
       "      <td>DEEP PURPLE  The House Of Blue Light  LP</td>\n",
       "      <td>58</td>\n",
       "      <td>Музыка - Винил</td>\n",
       "      <td>Muzyka - Vinil</td>\n",
       "      <td>Muzyka</td>\n",
       "      <td>Москва ТРК \"Атриум\"</td>\n",
       "      <td>Moskva TRK \"Atrium\"</td>\n",
       "      <td>Moskva</td>\n",
       "      <td>899.00</td>\n",
       "      <td>2013</td>\n",
       "    </tr>\n",
       "    <tr>\n",
       "      <td>2</td>\n",
       "      <td>2013-01-05</td>\n",
       "      <td>0</td>\n",
       "      <td>25</td>\n",
       "      <td>2552</td>\n",
       "      <td>899.00</td>\n",
       "      <td>-1.0</td>\n",
       "      <td>DEEP PURPLE  The House Of Blue Light  LP</td>\n",
       "      <td>58</td>\n",
       "      <td>Музыка - Винил</td>\n",
       "      <td>Muzyka - Vinil</td>\n",
       "      <td>Muzyka</td>\n",
       "      <td>Москва ТРК \"Атриум\"</td>\n",
       "      <td>Moskva TRK \"Atrium\"</td>\n",
       "      <td>Moskva</td>\n",
       "      <td>-899.00</td>\n",
       "      <td>2013</td>\n",
       "    </tr>\n",
       "    <tr>\n",
       "      <td>3</td>\n",
       "      <td>2013-01-06</td>\n",
       "      <td>0</td>\n",
       "      <td>25</td>\n",
       "      <td>2554</td>\n",
       "      <td>1709.05</td>\n",
       "      <td>1.0</td>\n",
       "      <td>DEEP PURPLE  Who Do You Think We Are  LP</td>\n",
       "      <td>58</td>\n",
       "      <td>Музыка - Винил</td>\n",
       "      <td>Muzyka - Vinil</td>\n",
       "      <td>Muzyka</td>\n",
       "      <td>Москва ТРК \"Атриум\"</td>\n",
       "      <td>Moskva TRK \"Atrium\"</td>\n",
       "      <td>Moskva</td>\n",
       "      <td>1709.05</td>\n",
       "      <td>2013</td>\n",
       "    </tr>\n",
       "    <tr>\n",
       "      <td>4</td>\n",
       "      <td>2013-01-15</td>\n",
       "      <td>0</td>\n",
       "      <td>25</td>\n",
       "      <td>2555</td>\n",
       "      <td>1099.00</td>\n",
       "      <td>1.0</td>\n",
       "      <td>DEEP PURPLE 30 Very Best Of 2CD (Фирм.)</td>\n",
       "      <td>56</td>\n",
       "      <td>Музыка - CD фирменного производства</td>\n",
       "      <td>Muzyka - CD firmennogo proizvodstva</td>\n",
       "      <td>Muzyka</td>\n",
       "      <td>Москва ТРК \"Атриум\"</td>\n",
       "      <td>Moskva TRK \"Atrium\"</td>\n",
       "      <td>Moskva</td>\n",
       "      <td>1099.00</td>\n",
       "      <td>2013</td>\n",
       "    </tr>\n",
       "  </tbody>\n",
       "</table>\n",
       "</div>"
      ],
      "text/plain": [
       "         date  date_block_num  shop_id  item_id  item_price  item_cnt_day  \\\n",
       "0  2013-01-02               0       59    22154      999.00           1.0   \n",
       "1  2013-01-03               0       25     2552      899.00           1.0   \n",
       "2  2013-01-05               0       25     2552      899.00          -1.0   \n",
       "3  2013-01-06               0       25     2554     1709.05           1.0   \n",
       "4  2013-01-15               0       25     2555     1099.00           1.0   \n",
       "\n",
       "                                  item_name  item_category_id  \\\n",
       "0                         ЯВЛЕНИЕ 2012 (BD)                37   \n",
       "1  DEEP PURPLE  The House Of Blue Light  LP                58   \n",
       "2  DEEP PURPLE  The House Of Blue Light  LP                58   \n",
       "3  DEEP PURPLE  Who Do You Think We Are  LP                58   \n",
       "4   DEEP PURPLE 30 Very Best Of 2CD (Фирм.)                56   \n",
       "\n",
       "                    item_category_name                        items_english  \\\n",
       "0                       Кино - Blu-Ray                       Kino - Blu-Ray   \n",
       "1                       Музыка - Винил                       Muzyka - Vinil   \n",
       "2                       Музыка - Винил                       Muzyka - Vinil   \n",
       "3                       Музыка - Винил                       Muzyka - Vinil   \n",
       "4  Музыка - CD фирменного производства  Muzyka - CD firmennogo proizvodstva   \n",
       "\n",
       "  meta_category               shop_name           shops_english       town  \\\n",
       "0          Kino  Ярославль ТЦ \"Альтаир\"  Aroslavl_ TZ \"Al_tair\"  Aroslavl_   \n",
       "1        Muzyka     Москва ТРК \"Атриум\"     Moskva TRK \"Atrium\"     Moskva   \n",
       "2        Muzyka     Москва ТРК \"Атриум\"     Moskva TRK \"Atrium\"     Moskva   \n",
       "3        Muzyka     Москва ТРК \"Атриум\"     Moskva TRK \"Atrium\"     Moskva   \n",
       "4        Muzyka     Москва ТРК \"Атриум\"     Moskva TRK \"Atrium\"     Moskva   \n",
       "\n",
       "   revenue  year  \n",
       "0   999.00  2013  \n",
       "1   899.00  2013  \n",
       "2  -899.00  2013  \n",
       "3  1709.05  2013  \n",
       "4  1099.00  2013  "
      ]
     },
     "execution_count": 24,
     "metadata": {},
     "output_type": "execute_result"
    }
   ],
   "source": [
    "sales.head()"
   ]
  },
  {
   "cell_type": "code",
   "execution_count": 26,
   "metadata": {},
   "outputs": [],
   "source": [
    "interim5=sales.groupby([\"item_id\",\"shop_id\",\"date_block_num\"],as_index=False).sum()[[\"item_id\",\"shop_id\",\"date_block_num\",\"item_cnt_day\"]].groupby([\"item_id\",\"shop_id\"],as_index=False).last()"
   ]
  },
  {
   "cell_type": "code",
   "execution_count": 28,
   "metadata": {},
   "outputs": [
    {
     "data": {
      "text/html": [
       "<div>\n",
       "<style scoped>\n",
       "    .dataframe tbody tr th:only-of-type {\n",
       "        vertical-align: middle;\n",
       "    }\n",
       "\n",
       "    .dataframe tbody tr th {\n",
       "        vertical-align: top;\n",
       "    }\n",
       "\n",
       "    .dataframe thead th {\n",
       "        text-align: right;\n",
       "    }\n",
       "</style>\n",
       "<table border=\"1\" class=\"dataframe\">\n",
       "  <thead>\n",
       "    <tr style=\"text-align: right;\">\n",
       "      <th></th>\n",
       "      <th>ID</th>\n",
       "      <th>item_cnt_month</th>\n",
       "    </tr>\n",
       "  </thead>\n",
       "  <tbody>\n",
       "    <tr>\n",
       "      <td>0</td>\n",
       "      <td>0</td>\n",
       "      <td>1.0</td>\n",
       "    </tr>\n",
       "    <tr>\n",
       "      <td>1</td>\n",
       "      <td>1</td>\n",
       "      <td>0.0</td>\n",
       "    </tr>\n",
       "    <tr>\n",
       "      <td>2</td>\n",
       "      <td>2</td>\n",
       "      <td>1.0</td>\n",
       "    </tr>\n",
       "    <tr>\n",
       "      <td>3</td>\n",
       "      <td>3</td>\n",
       "      <td>1.0</td>\n",
       "    </tr>\n",
       "    <tr>\n",
       "      <td>4</td>\n",
       "      <td>4</td>\n",
       "      <td>0.0</td>\n",
       "    </tr>\n",
       "    <tr>\n",
       "      <td>...</td>\n",
       "      <td>...</td>\n",
       "      <td>...</td>\n",
       "    </tr>\n",
       "    <tr>\n",
       "      <td>214195</td>\n",
       "      <td>214195</td>\n",
       "      <td>1.0</td>\n",
       "    </tr>\n",
       "    <tr>\n",
       "      <td>214196</td>\n",
       "      <td>214196</td>\n",
       "      <td>0.0</td>\n",
       "    </tr>\n",
       "    <tr>\n",
       "      <td>214197</td>\n",
       "      <td>214197</td>\n",
       "      <td>1.0</td>\n",
       "    </tr>\n",
       "    <tr>\n",
       "      <td>214198</td>\n",
       "      <td>214198</td>\n",
       "      <td>0.0</td>\n",
       "    </tr>\n",
       "    <tr>\n",
       "      <td>214199</td>\n",
       "      <td>214199</td>\n",
       "      <td>1.0</td>\n",
       "    </tr>\n",
       "  </tbody>\n",
       "</table>\n",
       "<p>214200 rows × 2 columns</p>\n",
       "</div>"
      ],
      "text/plain": [
       "            ID  item_cnt_month\n",
       "0            0             1.0\n",
       "1            1             0.0\n",
       "2            2             1.0\n",
       "3            3             1.0\n",
       "4            4             0.0\n",
       "...        ...             ...\n",
       "214195  214195             1.0\n",
       "214196  214196             0.0\n",
       "214197  214197             1.0\n",
       "214198  214198             0.0\n",
       "214199  214199             1.0\n",
       "\n",
       "[214200 rows x 2 columns]"
      ]
     },
     "execution_count": 28,
     "metadata": {},
     "output_type": "execute_result"
    }
   ],
   "source": [
    "interim5[\"item_cnt_day\"].clip(0,20,inplace = True)\n",
    "interim6 = pd.merge(test,interim5,how = \"left\",left_on = [\"shop_id\",\"item_id\"],right_on = [\"shop_id\",\"item_id\"])\n",
    "interim6.fillna(0,inplace = True)\n",
    "interim6 = interim6[[\"ID\",\"item_cnt_day\"]]\n",
    "interim6.columns = [\"ID\",\"item_cnt_month\"]\n",
    "interim6"
   ]
  },
  {
   "cell_type": "code",
   "execution_count": 29,
   "metadata": {},
   "outputs": [],
   "source": [
    "interim6.to_csv(\"sub4.csv\",index = False)"
   ]
  },
  {
   "cell_type": "markdown",
   "metadata": {},
   "source": [
    "1.387!"
   ]
  },
  {
   "cell_type": "code",
   "execution_count": 4,
   "metadata": {
    "scrolled": true
   },
   "outputs": [
    {
     "data": {
      "text/html": [
       "<div>\n",
       "<style scoped>\n",
       "    .dataframe tbody tr th:only-of-type {\n",
       "        vertical-align: middle;\n",
       "    }\n",
       "\n",
       "    .dataframe tbody tr th {\n",
       "        vertical-align: top;\n",
       "    }\n",
       "\n",
       "    .dataframe thead th {\n",
       "        text-align: right;\n",
       "    }\n",
       "</style>\n",
       "<table border=\"1\" class=\"dataframe\">\n",
       "  <thead>\n",
       "    <tr style=\"text-align: right;\">\n",
       "      <th></th>\n",
       "      <th>date</th>\n",
       "      <th>date_block_num</th>\n",
       "      <th>shop_id</th>\n",
       "      <th>item_id</th>\n",
       "      <th>item_price</th>\n",
       "      <th>item_cnt_day</th>\n",
       "      <th>item_name</th>\n",
       "      <th>item_category_id</th>\n",
       "      <th>item_category_name</th>\n",
       "      <th>items_english</th>\n",
       "      <th>meta_category</th>\n",
       "      <th>shop_name</th>\n",
       "      <th>shops_english</th>\n",
       "      <th>town</th>\n",
       "      <th>revenue</th>\n",
       "      <th>year</th>\n",
       "    </tr>\n",
       "  </thead>\n",
       "  <tbody>\n",
       "    <tr>\n",
       "      <td>0</td>\n",
       "      <td>2013-01-02</td>\n",
       "      <td>0</td>\n",
       "      <td>59</td>\n",
       "      <td>22154</td>\n",
       "      <td>999.00</td>\n",
       "      <td>1.0</td>\n",
       "      <td>ЯВЛЕНИЕ 2012 (BD)</td>\n",
       "      <td>37</td>\n",
       "      <td>Кино - Blu-Ray</td>\n",
       "      <td>Kino - Blu-Ray</td>\n",
       "      <td>Kino</td>\n",
       "      <td>Ярославль ТЦ \"Альтаир\"</td>\n",
       "      <td>Aroslavl_ TZ \"Al_tair\"</td>\n",
       "      <td>Aroslavl_</td>\n",
       "      <td>999.00</td>\n",
       "      <td>2013</td>\n",
       "    </tr>\n",
       "    <tr>\n",
       "      <td>1</td>\n",
       "      <td>2013-01-03</td>\n",
       "      <td>0</td>\n",
       "      <td>25</td>\n",
       "      <td>2552</td>\n",
       "      <td>899.00</td>\n",
       "      <td>1.0</td>\n",
       "      <td>DEEP PURPLE  The House Of Blue Light  LP</td>\n",
       "      <td>58</td>\n",
       "      <td>Музыка - Винил</td>\n",
       "      <td>Muzyka - Vinil</td>\n",
       "      <td>Muzyka</td>\n",
       "      <td>Москва ТРК \"Атриум\"</td>\n",
       "      <td>Moskva TRK \"Atrium\"</td>\n",
       "      <td>Moskva</td>\n",
       "      <td>899.00</td>\n",
       "      <td>2013</td>\n",
       "    </tr>\n",
       "    <tr>\n",
       "      <td>2</td>\n",
       "      <td>2013-01-05</td>\n",
       "      <td>0</td>\n",
       "      <td>25</td>\n",
       "      <td>2552</td>\n",
       "      <td>899.00</td>\n",
       "      <td>-1.0</td>\n",
       "      <td>DEEP PURPLE  The House Of Blue Light  LP</td>\n",
       "      <td>58</td>\n",
       "      <td>Музыка - Винил</td>\n",
       "      <td>Muzyka - Vinil</td>\n",
       "      <td>Muzyka</td>\n",
       "      <td>Москва ТРК \"Атриум\"</td>\n",
       "      <td>Moskva TRK \"Atrium\"</td>\n",
       "      <td>Moskva</td>\n",
       "      <td>-899.00</td>\n",
       "      <td>2013</td>\n",
       "    </tr>\n",
       "    <tr>\n",
       "      <td>3</td>\n",
       "      <td>2013-01-06</td>\n",
       "      <td>0</td>\n",
       "      <td>25</td>\n",
       "      <td>2554</td>\n",
       "      <td>1709.05</td>\n",
       "      <td>1.0</td>\n",
       "      <td>DEEP PURPLE  Who Do You Think We Are  LP</td>\n",
       "      <td>58</td>\n",
       "      <td>Музыка - Винил</td>\n",
       "      <td>Muzyka - Vinil</td>\n",
       "      <td>Muzyka</td>\n",
       "      <td>Москва ТРК \"Атриум\"</td>\n",
       "      <td>Moskva TRK \"Atrium\"</td>\n",
       "      <td>Moskva</td>\n",
       "      <td>1709.05</td>\n",
       "      <td>2013</td>\n",
       "    </tr>\n",
       "    <tr>\n",
       "      <td>4</td>\n",
       "      <td>2013-01-15</td>\n",
       "      <td>0</td>\n",
       "      <td>25</td>\n",
       "      <td>2555</td>\n",
       "      <td>1099.00</td>\n",
       "      <td>1.0</td>\n",
       "      <td>DEEP PURPLE 30 Very Best Of 2CD (Фирм.)</td>\n",
       "      <td>56</td>\n",
       "      <td>Музыка - CD фирменного производства</td>\n",
       "      <td>Muzyka - CD firmennogo proizvodstva</td>\n",
       "      <td>Muzyka</td>\n",
       "      <td>Москва ТРК \"Атриум\"</td>\n",
       "      <td>Moskva TRK \"Atrium\"</td>\n",
       "      <td>Moskva</td>\n",
       "      <td>1099.00</td>\n",
       "      <td>2013</td>\n",
       "    </tr>\n",
       "    <tr>\n",
       "      <td>...</td>\n",
       "      <td>...</td>\n",
       "      <td>...</td>\n",
       "      <td>...</td>\n",
       "      <td>...</td>\n",
       "      <td>...</td>\n",
       "      <td>...</td>\n",
       "      <td>...</td>\n",
       "      <td>...</td>\n",
       "      <td>...</td>\n",
       "      <td>...</td>\n",
       "      <td>...</td>\n",
       "      <td>...</td>\n",
       "      <td>...</td>\n",
       "      <td>...</td>\n",
       "      <td>...</td>\n",
       "      <td>...</td>\n",
       "    </tr>\n",
       "    <tr>\n",
       "      <td>2935844</td>\n",
       "      <td>2015-10-10</td>\n",
       "      <td>33</td>\n",
       "      <td>25</td>\n",
       "      <td>7409</td>\n",
       "      <td>299.00</td>\n",
       "      <td>1.0</td>\n",
       "      <td>V/A Nu Jazz Selection (digipack)</td>\n",
       "      <td>55</td>\n",
       "      <td>Музыка - CD локального производства</td>\n",
       "      <td>Muzyka - CD lokal_nogo proizvodstva</td>\n",
       "      <td>Muzyka</td>\n",
       "      <td>Москва ТРК \"Атриум\"</td>\n",
       "      <td>Moskva TRK \"Atrium\"</td>\n",
       "      <td>Moskva</td>\n",
       "      <td>299.00</td>\n",
       "      <td>2015</td>\n",
       "    </tr>\n",
       "    <tr>\n",
       "      <td>2935845</td>\n",
       "      <td>2015-10-09</td>\n",
       "      <td>33</td>\n",
       "      <td>25</td>\n",
       "      <td>7460</td>\n",
       "      <td>299.00</td>\n",
       "      <td>1.0</td>\n",
       "      <td>V/A The Golden Jazz Collection  1  2CD</td>\n",
       "      <td>55</td>\n",
       "      <td>Музыка - CD локального производства</td>\n",
       "      <td>Muzyka - CD lokal_nogo proizvodstva</td>\n",
       "      <td>Muzyka</td>\n",
       "      <td>Москва ТРК \"Атриум\"</td>\n",
       "      <td>Moskva TRK \"Atrium\"</td>\n",
       "      <td>Moskva</td>\n",
       "      <td>299.00</td>\n",
       "      <td>2015</td>\n",
       "    </tr>\n",
       "    <tr>\n",
       "      <td>2935846</td>\n",
       "      <td>2015-10-14</td>\n",
       "      <td>33</td>\n",
       "      <td>25</td>\n",
       "      <td>7459</td>\n",
       "      <td>349.00</td>\n",
       "      <td>1.0</td>\n",
       "      <td>V/A The Best Of The 3 Tenors</td>\n",
       "      <td>55</td>\n",
       "      <td>Музыка - CD локального производства</td>\n",
       "      <td>Muzyka - CD lokal_nogo proizvodstva</td>\n",
       "      <td>Muzyka</td>\n",
       "      <td>Москва ТРК \"Атриум\"</td>\n",
       "      <td>Moskva TRK \"Atrium\"</td>\n",
       "      <td>Moskva</td>\n",
       "      <td>349.00</td>\n",
       "      <td>2015</td>\n",
       "    </tr>\n",
       "    <tr>\n",
       "      <td>2935847</td>\n",
       "      <td>2015-10-22</td>\n",
       "      <td>33</td>\n",
       "      <td>25</td>\n",
       "      <td>7440</td>\n",
       "      <td>299.00</td>\n",
       "      <td>1.0</td>\n",
       "      <td>V/A Relax Collection  Planet MP3 (mp3-CD) (jewel)</td>\n",
       "      <td>57</td>\n",
       "      <td>Музыка - MP3</td>\n",
       "      <td>Muzyka - MP3</td>\n",
       "      <td>Muzyka</td>\n",
       "      <td>Москва ТРК \"Атриум\"</td>\n",
       "      <td>Moskva TRK \"Atrium\"</td>\n",
       "      <td>Moskva</td>\n",
       "      <td>299.00</td>\n",
       "      <td>2015</td>\n",
       "    </tr>\n",
       "    <tr>\n",
       "      <td>2935848</td>\n",
       "      <td>2015-10-03</td>\n",
       "      <td>33</td>\n",
       "      <td>25</td>\n",
       "      <td>7460</td>\n",
       "      <td>299.00</td>\n",
       "      <td>1.0</td>\n",
       "      <td>V/A The Golden Jazz Collection  1  2CD</td>\n",
       "      <td>55</td>\n",
       "      <td>Музыка - CD локального производства</td>\n",
       "      <td>Muzyka - CD lokal_nogo proizvodstva</td>\n",
       "      <td>Muzyka</td>\n",
       "      <td>Москва ТРК \"Атриум\"</td>\n",
       "      <td>Moskva TRK \"Atrium\"</td>\n",
       "      <td>Moskva</td>\n",
       "      <td>299.00</td>\n",
       "      <td>2015</td>\n",
       "    </tr>\n",
       "  </tbody>\n",
       "</table>\n",
       "<p>2935849 rows × 16 columns</p>\n",
       "</div>"
      ],
      "text/plain": [
       "               date  date_block_num  shop_id  item_id  item_price  \\\n",
       "0        2013-01-02               0       59    22154      999.00   \n",
       "1        2013-01-03               0       25     2552      899.00   \n",
       "2        2013-01-05               0       25     2552      899.00   \n",
       "3        2013-01-06               0       25     2554     1709.05   \n",
       "4        2013-01-15               0       25     2555     1099.00   \n",
       "...             ...             ...      ...      ...         ...   \n",
       "2935844  2015-10-10              33       25     7409      299.00   \n",
       "2935845  2015-10-09              33       25     7460      299.00   \n",
       "2935846  2015-10-14              33       25     7459      349.00   \n",
       "2935847  2015-10-22              33       25     7440      299.00   \n",
       "2935848  2015-10-03              33       25     7460      299.00   \n",
       "\n",
       "         item_cnt_day                                          item_name  \\\n",
       "0                 1.0                                  ЯВЛЕНИЕ 2012 (BD)   \n",
       "1                 1.0           DEEP PURPLE  The House Of Blue Light  LP   \n",
       "2                -1.0           DEEP PURPLE  The House Of Blue Light  LP   \n",
       "3                 1.0           DEEP PURPLE  Who Do You Think We Are  LP   \n",
       "4                 1.0            DEEP PURPLE 30 Very Best Of 2CD (Фирм.)   \n",
       "...               ...                                                ...   \n",
       "2935844           1.0                   V/A Nu Jazz Selection (digipack)   \n",
       "2935845           1.0             V/A The Golden Jazz Collection  1  2CD   \n",
       "2935846           1.0                       V/A The Best Of The 3 Tenors   \n",
       "2935847           1.0  V/A Relax Collection  Planet MP3 (mp3-CD) (jewel)   \n",
       "2935848           1.0             V/A The Golden Jazz Collection  1  2CD   \n",
       "\n",
       "         item_category_id                   item_category_name  \\\n",
       "0                      37                       Кино - Blu-Ray   \n",
       "1                      58                       Музыка - Винил   \n",
       "2                      58                       Музыка - Винил   \n",
       "3                      58                       Музыка - Винил   \n",
       "4                      56  Музыка - CD фирменного производства   \n",
       "...                   ...                                  ...   \n",
       "2935844                55  Музыка - CD локального производства   \n",
       "2935845                55  Музыка - CD локального производства   \n",
       "2935846                55  Музыка - CD локального производства   \n",
       "2935847                57                         Музыка - MP3   \n",
       "2935848                55  Музыка - CD локального производства   \n",
       "\n",
       "                               items_english meta_category  \\\n",
       "0                             Kino - Blu-Ray          Kino   \n",
       "1                             Muzyka - Vinil        Muzyka   \n",
       "2                             Muzyka - Vinil        Muzyka   \n",
       "3                             Muzyka - Vinil        Muzyka   \n",
       "4        Muzyka - CD firmennogo proizvodstva        Muzyka   \n",
       "...                                      ...           ...   \n",
       "2935844  Muzyka - CD lokal_nogo proizvodstva        Muzyka   \n",
       "2935845  Muzyka - CD lokal_nogo proizvodstva        Muzyka   \n",
       "2935846  Muzyka - CD lokal_nogo proizvodstva        Muzyka   \n",
       "2935847                         Muzyka - MP3        Muzyka   \n",
       "2935848  Muzyka - CD lokal_nogo proizvodstva        Muzyka   \n",
       "\n",
       "                      shop_name           shops_english       town  revenue  \\\n",
       "0        Ярославль ТЦ \"Альтаир\"  Aroslavl_ TZ \"Al_tair\"  Aroslavl_   999.00   \n",
       "1           Москва ТРК \"Атриум\"     Moskva TRK \"Atrium\"     Moskva   899.00   \n",
       "2           Москва ТРК \"Атриум\"     Moskva TRK \"Atrium\"     Moskva  -899.00   \n",
       "3           Москва ТРК \"Атриум\"     Moskva TRK \"Atrium\"     Moskva  1709.05   \n",
       "4           Москва ТРК \"Атриум\"     Moskva TRK \"Atrium\"     Moskva  1099.00   \n",
       "...                         ...                     ...        ...      ...   \n",
       "2935844     Москва ТРК \"Атриум\"     Moskva TRK \"Atrium\"     Moskva   299.00   \n",
       "2935845     Москва ТРК \"Атриум\"     Moskva TRK \"Atrium\"     Moskva   299.00   \n",
       "2935846     Москва ТРК \"Атриум\"     Moskva TRK \"Atrium\"     Moskva   349.00   \n",
       "2935847     Москва ТРК \"Атриум\"     Moskva TRK \"Atrium\"     Moskva   299.00   \n",
       "2935848     Москва ТРК \"Атриум\"     Moskva TRK \"Atrium\"     Moskva   299.00   \n",
       "\n",
       "         year  \n",
       "0        2013  \n",
       "1        2013  \n",
       "2        2013  \n",
       "3        2013  \n",
       "4        2013  \n",
       "...       ...  \n",
       "2935844  2015  \n",
       "2935845  2015  \n",
       "2935846  2015  \n",
       "2935847  2015  \n",
       "2935848  2015  \n",
       "\n",
       "[2935849 rows x 16 columns]"
      ]
     },
     "execution_count": 4,
     "metadata": {},
     "output_type": "execute_result"
    }
   ],
   "source": [
    "sales"
   ]
  },
  {
   "cell_type": "code",
   "execution_count": 3,
   "metadata": {},
   "outputs": [],
   "source": [
    "sales['date'] = pd.to_datetime(sales['date'], format='%Y-%m-%d')"
   ]
  },
  {
   "cell_type": "code",
   "execution_count": 4,
   "metadata": {},
   "outputs": [],
   "source": [
    "sales['month'] = sales['date'].dt.month"
   ]
  },
  {
   "cell_type": "code",
   "execution_count": 20,
   "metadata": {},
   "outputs": [
    {
     "data": {
      "text/html": [
       "<div>\n",
       "<style scoped>\n",
       "    .dataframe tbody tr th:only-of-type {\n",
       "        vertical-align: middle;\n",
       "    }\n",
       "\n",
       "    .dataframe tbody tr th {\n",
       "        vertical-align: top;\n",
       "    }\n",
       "\n",
       "    .dataframe thead th {\n",
       "        text-align: right;\n",
       "    }\n",
       "</style>\n",
       "<table border=\"1\" class=\"dataframe\">\n",
       "  <thead>\n",
       "    <tr style=\"text-align: right;\">\n",
       "      <th></th>\n",
       "      <th>date</th>\n",
       "      <th>date_block_num</th>\n",
       "      <th>shop_id</th>\n",
       "      <th>item_id</th>\n",
       "      <th>item_price</th>\n",
       "      <th>item_cnt_day</th>\n",
       "      <th>item_name</th>\n",
       "      <th>item_category_id</th>\n",
       "      <th>item_category_name</th>\n",
       "      <th>items_english</th>\n",
       "      <th>meta_category</th>\n",
       "      <th>shop_name</th>\n",
       "      <th>shops_english</th>\n",
       "      <th>town</th>\n",
       "      <th>revenue</th>\n",
       "      <th>year</th>\n",
       "      <th>month</th>\n",
       "    </tr>\n",
       "  </thead>\n",
       "  <tbody>\n",
       "    <tr>\n",
       "      <td>0</td>\n",
       "      <td>2013-01-02</td>\n",
       "      <td>0</td>\n",
       "      <td>59</td>\n",
       "      <td>22154</td>\n",
       "      <td>999.00</td>\n",
       "      <td>1.0</td>\n",
       "      <td>ЯВЛЕНИЕ 2012 (BD)</td>\n",
       "      <td>37</td>\n",
       "      <td>Кино - Blu-Ray</td>\n",
       "      <td>Kino - Blu-Ray</td>\n",
       "      <td>Kino</td>\n",
       "      <td>Ярославль ТЦ \"Альтаир\"</td>\n",
       "      <td>Aroslavl_ TZ \"Al_tair\"</td>\n",
       "      <td>Aroslavl_</td>\n",
       "      <td>999.00</td>\n",
       "      <td>2013</td>\n",
       "      <td>1</td>\n",
       "    </tr>\n",
       "    <tr>\n",
       "      <td>1</td>\n",
       "      <td>2013-01-03</td>\n",
       "      <td>0</td>\n",
       "      <td>25</td>\n",
       "      <td>2552</td>\n",
       "      <td>899.00</td>\n",
       "      <td>1.0</td>\n",
       "      <td>DEEP PURPLE  The House Of Blue Light  LP</td>\n",
       "      <td>58</td>\n",
       "      <td>Музыка - Винил</td>\n",
       "      <td>Muzyka - Vinil</td>\n",
       "      <td>Muzyka</td>\n",
       "      <td>Москва ТРК \"Атриум\"</td>\n",
       "      <td>Moskva TRK \"Atrium\"</td>\n",
       "      <td>Moskva</td>\n",
       "      <td>899.00</td>\n",
       "      <td>2013</td>\n",
       "      <td>1</td>\n",
       "    </tr>\n",
       "    <tr>\n",
       "      <td>2</td>\n",
       "      <td>2013-01-05</td>\n",
       "      <td>0</td>\n",
       "      <td>25</td>\n",
       "      <td>2552</td>\n",
       "      <td>899.00</td>\n",
       "      <td>-1.0</td>\n",
       "      <td>DEEP PURPLE  The House Of Blue Light  LP</td>\n",
       "      <td>58</td>\n",
       "      <td>Музыка - Винил</td>\n",
       "      <td>Muzyka - Vinil</td>\n",
       "      <td>Muzyka</td>\n",
       "      <td>Москва ТРК \"Атриум\"</td>\n",
       "      <td>Moskva TRK \"Atrium\"</td>\n",
       "      <td>Moskva</td>\n",
       "      <td>-899.00</td>\n",
       "      <td>2013</td>\n",
       "      <td>1</td>\n",
       "    </tr>\n",
       "    <tr>\n",
       "      <td>3</td>\n",
       "      <td>2013-01-06</td>\n",
       "      <td>0</td>\n",
       "      <td>25</td>\n",
       "      <td>2554</td>\n",
       "      <td>1709.05</td>\n",
       "      <td>1.0</td>\n",
       "      <td>DEEP PURPLE  Who Do You Think We Are  LP</td>\n",
       "      <td>58</td>\n",
       "      <td>Музыка - Винил</td>\n",
       "      <td>Muzyka - Vinil</td>\n",
       "      <td>Muzyka</td>\n",
       "      <td>Москва ТРК \"Атриум\"</td>\n",
       "      <td>Moskva TRK \"Atrium\"</td>\n",
       "      <td>Moskva</td>\n",
       "      <td>1709.05</td>\n",
       "      <td>2013</td>\n",
       "      <td>1</td>\n",
       "    </tr>\n",
       "    <tr>\n",
       "      <td>4</td>\n",
       "      <td>2013-01-15</td>\n",
       "      <td>0</td>\n",
       "      <td>25</td>\n",
       "      <td>2555</td>\n",
       "      <td>1099.00</td>\n",
       "      <td>1.0</td>\n",
       "      <td>DEEP PURPLE 30 Very Best Of 2CD (Фирм.)</td>\n",
       "      <td>56</td>\n",
       "      <td>Музыка - CD фирменного производства</td>\n",
       "      <td>Muzyka - CD firmennogo proizvodstva</td>\n",
       "      <td>Muzyka</td>\n",
       "      <td>Москва ТРК \"Атриум\"</td>\n",
       "      <td>Moskva TRK \"Atrium\"</td>\n",
       "      <td>Moskva</td>\n",
       "      <td>1099.00</td>\n",
       "      <td>2013</td>\n",
       "      <td>1</td>\n",
       "    </tr>\n",
       "  </tbody>\n",
       "</table>\n",
       "</div>"
      ],
      "text/plain": [
       "        date  date_block_num  shop_id  item_id  item_price  item_cnt_day  \\\n",
       "0 2013-01-02               0       59    22154      999.00           1.0   \n",
       "1 2013-01-03               0       25     2552      899.00           1.0   \n",
       "2 2013-01-05               0       25     2552      899.00          -1.0   \n",
       "3 2013-01-06               0       25     2554     1709.05           1.0   \n",
       "4 2013-01-15               0       25     2555     1099.00           1.0   \n",
       "\n",
       "                                  item_name  item_category_id  \\\n",
       "0                         ЯВЛЕНИЕ 2012 (BD)                37   \n",
       "1  DEEP PURPLE  The House Of Blue Light  LP                58   \n",
       "2  DEEP PURPLE  The House Of Blue Light  LP                58   \n",
       "3  DEEP PURPLE  Who Do You Think We Are  LP                58   \n",
       "4   DEEP PURPLE 30 Very Best Of 2CD (Фирм.)                56   \n",
       "\n",
       "                    item_category_name                        items_english  \\\n",
       "0                       Кино - Blu-Ray                       Kino - Blu-Ray   \n",
       "1                       Музыка - Винил                       Muzyka - Vinil   \n",
       "2                       Музыка - Винил                       Muzyka - Vinil   \n",
       "3                       Музыка - Винил                       Muzyka - Vinil   \n",
       "4  Музыка - CD фирменного производства  Muzyka - CD firmennogo proizvodstva   \n",
       "\n",
       "  meta_category               shop_name           shops_english       town  \\\n",
       "0          Kino  Ярославль ТЦ \"Альтаир\"  Aroslavl_ TZ \"Al_tair\"  Aroslavl_   \n",
       "1        Muzyka     Москва ТРК \"Атриум\"     Moskva TRK \"Atrium\"     Moskva   \n",
       "2        Muzyka     Москва ТРК \"Атриум\"     Moskva TRK \"Atrium\"     Moskva   \n",
       "3        Muzyka     Москва ТРК \"Атриум\"     Moskva TRK \"Atrium\"     Moskva   \n",
       "4        Muzyka     Москва ТРК \"Атриум\"     Moskva TRK \"Atrium\"     Moskva   \n",
       "\n",
       "   revenue  year  month  \n",
       "0   999.00  2013      1  \n",
       "1   899.00  2013      1  \n",
       "2  -899.00  2013      1  \n",
       "3  1709.05  2013      1  \n",
       "4  1099.00  2013      1  "
      ]
     },
     "execution_count": 20,
     "metadata": {},
     "output_type": "execute_result"
    }
   ],
   "source": [
    "sales.head()"
   ]
  },
  {
   "cell_type": "code",
   "execution_count": 5,
   "metadata": {},
   "outputs": [],
   "source": [
    "df=pd.DataFrame()\n",
    "df=sales.groupby([\"date_block_num\",\"shop_id\",\"item_id\",\"month\",\"item_price\",\"item_category_id\",\"meta_category\",\"town\"],as_index=False).sum()[[\"date_block_num\",\"shop_id\",\"item_id\",\"month\",\"item_price\",\"item_category_id\",\"meta_category\",\"town\",\"item_cnt_day\"]]"
   ]
  },
  {
   "cell_type": "code",
   "execution_count": 6,
   "metadata": {},
   "outputs": [],
   "source": [
    "df=df.rename(columns = {'item_cnt_day':'item_cnt_month'})"
   ]
  },
  {
   "cell_type": "markdown",
   "metadata": {},
   "source": [
    "- date_block_num: numerical \n",
    "- shop_id: categorical\n",
    "- item_id: categorical\n",
    "- item_price: numerical\n",
    "- month: categorical\n",
    "- item_category_id: categorical\n",
    "- meta_category: categorical\n",
    "- town: categorical\n",
    "- item_cnt_month: numerical"
   ]
  },
  {
   "cell_type": "code",
   "execution_count": 27,
   "metadata": {},
   "outputs": [
    {
     "data": {
      "text/html": [
       "<div>\n",
       "<style scoped>\n",
       "    .dataframe tbody tr th:only-of-type {\n",
       "        vertical-align: middle;\n",
       "    }\n",
       "\n",
       "    .dataframe tbody tr th {\n",
       "        vertical-align: top;\n",
       "    }\n",
       "\n",
       "    .dataframe thead th {\n",
       "        text-align: right;\n",
       "    }\n",
       "</style>\n",
       "<table border=\"1\" class=\"dataframe\">\n",
       "  <thead>\n",
       "    <tr style=\"text-align: right;\">\n",
       "      <th></th>\n",
       "      <th>date_block_num</th>\n",
       "      <th>shop_id</th>\n",
       "      <th>item_id</th>\n",
       "      <th>month</th>\n",
       "      <th>item_price</th>\n",
       "      <th>item_category_id</th>\n",
       "      <th>meta_category</th>\n",
       "      <th>town</th>\n",
       "      <th>item_cnt_month</th>\n",
       "    </tr>\n",
       "  </thead>\n",
       "  <tbody>\n",
       "    <tr>\n",
       "      <td>0</td>\n",
       "      <td>0</td>\n",
       "      <td>0</td>\n",
       "      <td>32</td>\n",
       "      <td>1</td>\n",
       "      <td>221.0</td>\n",
       "      <td>40</td>\n",
       "      <td>Kino</td>\n",
       "      <td>!Akutsk</td>\n",
       "      <td>6.0</td>\n",
       "    </tr>\n",
       "    <tr>\n",
       "      <td>1</td>\n",
       "      <td>0</td>\n",
       "      <td>0</td>\n",
       "      <td>33</td>\n",
       "      <td>1</td>\n",
       "      <td>347.0</td>\n",
       "      <td>37</td>\n",
       "      <td>Kino</td>\n",
       "      <td>!Akutsk</td>\n",
       "      <td>3.0</td>\n",
       "    </tr>\n",
       "    <tr>\n",
       "      <td>2</td>\n",
       "      <td>0</td>\n",
       "      <td>0</td>\n",
       "      <td>35</td>\n",
       "      <td>1</td>\n",
       "      <td>247.0</td>\n",
       "      <td>40</td>\n",
       "      <td>Kino</td>\n",
       "      <td>!Akutsk</td>\n",
       "      <td>1.0</td>\n",
       "    </tr>\n",
       "    <tr>\n",
       "      <td>3</td>\n",
       "      <td>0</td>\n",
       "      <td>0</td>\n",
       "      <td>43</td>\n",
       "      <td>1</td>\n",
       "      <td>221.0</td>\n",
       "      <td>40</td>\n",
       "      <td>Kino</td>\n",
       "      <td>!Akutsk</td>\n",
       "      <td>1.0</td>\n",
       "    </tr>\n",
       "    <tr>\n",
       "      <td>4</td>\n",
       "      <td>0</td>\n",
       "      <td>0</td>\n",
       "      <td>51</td>\n",
       "      <td>1</td>\n",
       "      <td>127.0</td>\n",
       "      <td>57</td>\n",
       "      <td>Muzyka</td>\n",
       "      <td>!Akutsk</td>\n",
       "      <td>1.0</td>\n",
       "    </tr>\n",
       "  </tbody>\n",
       "</table>\n",
       "</div>"
      ],
      "text/plain": [
       "   date_block_num  shop_id  item_id  month  item_price  item_category_id  \\\n",
       "0               0        0       32      1       221.0                40   \n",
       "1               0        0       33      1       347.0                37   \n",
       "2               0        0       35      1       247.0                40   \n",
       "3               0        0       43      1       221.0                40   \n",
       "4               0        0       51      1       127.0                57   \n",
       "\n",
       "  meta_category     town  item_cnt_month  \n",
       "0          Kino  !Akutsk             6.0  \n",
       "1          Kino  !Akutsk             3.0  \n",
       "2          Kino  !Akutsk             1.0  \n",
       "3          Kino  !Akutsk             1.0  \n",
       "4        Muzyka  !Akutsk             1.0  "
      ]
     },
     "execution_count": 27,
     "metadata": {},
     "output_type": "execute_result"
    }
   ],
   "source": [
    "df.head()"
   ]
  },
  {
   "cell_type": "code",
   "execution_count": 7,
   "metadata": {},
   "outputs": [],
   "source": [
    "from sklearn.preprocessing import LabelEncoder"
   ]
  },
  {
   "cell_type": "markdown",
   "metadata": {},
   "source": [
    "We'd try different encoding schemes covered in the course and evaluate their performance on Linear Regression."
   ]
  },
  {
   "cell_type": "code",
   "execution_count": 8,
   "metadata": {},
   "outputs": [
    {
     "data": {
      "text/html": [
       "<div>\n",
       "<style scoped>\n",
       "    .dataframe tbody tr th:only-of-type {\n",
       "        vertical-align: middle;\n",
       "    }\n",
       "\n",
       "    .dataframe tbody tr th {\n",
       "        vertical-align: top;\n",
       "    }\n",
       "\n",
       "    .dataframe thead th {\n",
       "        text-align: right;\n",
       "    }\n",
       "</style>\n",
       "<table border=\"1\" class=\"dataframe\">\n",
       "  <thead>\n",
       "    <tr style=\"text-align: right;\">\n",
       "      <th></th>\n",
       "      <th>date_block_num</th>\n",
       "      <th>shop_id</th>\n",
       "      <th>item_id</th>\n",
       "      <th>month</th>\n",
       "      <th>item_price</th>\n",
       "      <th>item_category_id</th>\n",
       "      <th>meta_category</th>\n",
       "      <th>town</th>\n",
       "      <th>item_cnt_month</th>\n",
       "    </tr>\n",
       "  </thead>\n",
       "  <tbody>\n",
       "    <tr>\n",
       "      <td>0</td>\n",
       "      <td>0</td>\n",
       "      <td>0</td>\n",
       "      <td>32</td>\n",
       "      <td>1</td>\n",
       "      <td>221.0</td>\n",
       "      <td>40</td>\n",
       "      <td>13</td>\n",
       "      <td>0</td>\n",
       "      <td>6.0</td>\n",
       "    </tr>\n",
       "    <tr>\n",
       "      <td>1</td>\n",
       "      <td>0</td>\n",
       "      <td>0</td>\n",
       "      <td>33</td>\n",
       "      <td>1</td>\n",
       "      <td>347.0</td>\n",
       "      <td>37</td>\n",
       "      <td>13</td>\n",
       "      <td>0</td>\n",
       "      <td>3.0</td>\n",
       "    </tr>\n",
       "    <tr>\n",
       "      <td>2</td>\n",
       "      <td>0</td>\n",
       "      <td>0</td>\n",
       "      <td>35</td>\n",
       "      <td>1</td>\n",
       "      <td>247.0</td>\n",
       "      <td>40</td>\n",
       "      <td>13</td>\n",
       "      <td>0</td>\n",
       "      <td>1.0</td>\n",
       "    </tr>\n",
       "    <tr>\n",
       "      <td>3</td>\n",
       "      <td>0</td>\n",
       "      <td>0</td>\n",
       "      <td>43</td>\n",
       "      <td>1</td>\n",
       "      <td>221.0</td>\n",
       "      <td>40</td>\n",
       "      <td>13</td>\n",
       "      <td>0</td>\n",
       "      <td>1.0</td>\n",
       "    </tr>\n",
       "    <tr>\n",
       "      <td>4</td>\n",
       "      <td>0</td>\n",
       "      <td>0</td>\n",
       "      <td>51</td>\n",
       "      <td>1</td>\n",
       "      <td>127.0</td>\n",
       "      <td>57</td>\n",
       "      <td>15</td>\n",
       "      <td>0</td>\n",
       "      <td>1.0</td>\n",
       "    </tr>\n",
       "  </tbody>\n",
       "</table>\n",
       "</div>"
      ],
      "text/plain": [
       "   date_block_num  shop_id  item_id  month  item_price  item_category_id  \\\n",
       "0               0        0       32      1       221.0                40   \n",
       "1               0        0       33      1       347.0                37   \n",
       "2               0        0       35      1       247.0                40   \n",
       "3               0        0       43      1       221.0                40   \n",
       "4               0        0       51      1       127.0                57   \n",
       "\n",
       "   meta_category  town  item_cnt_month  \n",
       "0             13     0             6.0  \n",
       "1             13     0             3.0  \n",
       "2             13     0             1.0  \n",
       "3             13     0             1.0  \n",
       "4             15     0             1.0  "
      ]
     },
     "execution_count": 8,
     "metadata": {},
     "output_type": "execute_result"
    }
   ],
   "source": [
    "le = LabelEncoder()\n",
    "le.fit(df.meta_category)\n",
    "df['meta_category'] = le.transform(df.meta_category)\n",
    "\n",
    "le.fit(df.town)\n",
    "df['town'] = le.transform(df.town)\n",
    "\n",
    "df.head()"
   ]
  },
  {
   "cell_type": "markdown",
   "metadata": {},
   "source": [
    "Fitting Linear Regression!"
   ]
  },
  {
   "cell_type": "code",
   "execution_count": 9,
   "metadata": {},
   "outputs": [],
   "source": [
    "Xtrain=df.drop(\"item_cnt_month\", axis=1)\n",
    "# Reason for dropping item_price explained below\n",
    "ytrain=df[\"item_cnt_month\"]\n",
    "\n",
    "Xtrain.fillna(0, inplace=True)"
   ]
  },
  {
   "cell_type": "code",
   "execution_count": 14,
   "metadata": {},
   "outputs": [
    {
     "name": "stdout",
     "output_type": "stream",
     "text": [
      "7.611730670923669\n"
     ]
    }
   ],
   "source": [
    "from sklearn.linear_model import LinearRegression\n",
    "from sklearn.metrics import mean_squared_error\n",
    "\n",
    "lr = LinearRegression()\n",
    "lr.fit(Xtrain,ytrain)\n",
    "ypred = lr.predict(Xtrain)\n",
    "print(np.sqrt(mean_squared_error(ytrain,ypred)))"
   ]
  },
  {
   "cell_type": "markdown",
   "metadata": {},
   "source": [
    "7.6117! Worse than the baseline models or un-models, and that too on the train set."
   ]
  },
  {
   "cell_type": "code",
   "execution_count": 15,
   "metadata": {},
   "outputs": [
    {
     "data": {
      "text/plain": [
       "array([-6.02751709e-03,  4.29243409e-04,  1.17313171e-05,  4.13813305e-02,\n",
       "        2.38842392e-05,  4.88228370e-02, -2.40672822e-01, -5.87388955e-03])"
      ]
     },
     "execution_count": 15,
     "metadata": {},
     "output_type": "execute_result"
    }
   ],
   "source": [
    "lr.coef_"
   ]
  },
  {
   "cell_type": "code",
   "execution_count": 16,
   "metadata": {},
   "outputs": [
    {
     "data": {
      "text/plain": [
       "Index(['date_block_num', 'shop_id', 'item_id', 'month', 'item_price',\n",
       "       'item_category_id', 'meta_category', 'town'],\n",
       "      dtype='object')"
      ]
     },
     "execution_count": 16,
     "metadata": {},
     "output_type": "execute_result"
    }
   ],
   "source": [
    "Xtrain.columns"
   ]
  },
  {
   "cell_type": "markdown",
   "metadata": {},
   "source": [
    "We have label encoded many features and we can't really expect linear models to give good results. Let's try some trees."
   ]
  },
  {
   "cell_type": "code",
   "execution_count": 19,
   "metadata": {},
   "outputs": [
    {
     "name": "stdout",
     "output_type": "stream",
     "text": [
      "0.0\n"
     ]
    }
   ],
   "source": [
    "from sklearn.tree import DecisionTreeRegressor\n",
    "\n",
    "dtr = DecisionTreeRegressor()\n",
    "dtr.fit(Xtrain,ytrain)\n",
    "ypred = dtr.predict(Xtrain)\n",
    "print(np.sqrt(mean_squared_error(ytrain,ypred)))"
   ]
  },
  {
   "cell_type": "markdown",
   "metadata": {},
   "source": [
    "Aha! Overfitting at its best!"
   ]
  },
  {
   "cell_type": "markdown",
   "metadata": {},
   "source": [
    "In order to use the Test set, we'd have to blow it up. Add columns such as town, item_category, price, town, item_cnt_month etc."
   ]
  },
  {
   "cell_type": "code",
   "execution_count": 10,
   "metadata": {},
   "outputs": [
    {
     "data": {
      "text/html": [
       "<div>\n",
       "<style scoped>\n",
       "    .dataframe tbody tr th:only-of-type {\n",
       "        vertical-align: middle;\n",
       "    }\n",
       "\n",
       "    .dataframe tbody tr th {\n",
       "        vertical-align: top;\n",
       "    }\n",
       "\n",
       "    .dataframe thead th {\n",
       "        text-align: right;\n",
       "    }\n",
       "</style>\n",
       "<table border=\"1\" class=\"dataframe\">\n",
       "  <thead>\n",
       "    <tr style=\"text-align: right;\">\n",
       "      <th></th>\n",
       "      <th>ID</th>\n",
       "      <th>shop_id</th>\n",
       "      <th>item_id</th>\n",
       "    </tr>\n",
       "  </thead>\n",
       "  <tbody>\n",
       "    <tr>\n",
       "      <td>0</td>\n",
       "      <td>0</td>\n",
       "      <td>5</td>\n",
       "      <td>5037</td>\n",
       "    </tr>\n",
       "    <tr>\n",
       "      <td>1</td>\n",
       "      <td>1</td>\n",
       "      <td>5</td>\n",
       "      <td>5320</td>\n",
       "    </tr>\n",
       "    <tr>\n",
       "      <td>2</td>\n",
       "      <td>2</td>\n",
       "      <td>5</td>\n",
       "      <td>5233</td>\n",
       "    </tr>\n",
       "    <tr>\n",
       "      <td>3</td>\n",
       "      <td>3</td>\n",
       "      <td>5</td>\n",
       "      <td>5232</td>\n",
       "    </tr>\n",
       "    <tr>\n",
       "      <td>4</td>\n",
       "      <td>4</td>\n",
       "      <td>5</td>\n",
       "      <td>5268</td>\n",
       "    </tr>\n",
       "    <tr>\n",
       "      <td>...</td>\n",
       "      <td>...</td>\n",
       "      <td>...</td>\n",
       "      <td>...</td>\n",
       "    </tr>\n",
       "    <tr>\n",
       "      <td>214195</td>\n",
       "      <td>214195</td>\n",
       "      <td>45</td>\n",
       "      <td>18454</td>\n",
       "    </tr>\n",
       "    <tr>\n",
       "      <td>214196</td>\n",
       "      <td>214196</td>\n",
       "      <td>45</td>\n",
       "      <td>16188</td>\n",
       "    </tr>\n",
       "    <tr>\n",
       "      <td>214197</td>\n",
       "      <td>214197</td>\n",
       "      <td>45</td>\n",
       "      <td>15757</td>\n",
       "    </tr>\n",
       "    <tr>\n",
       "      <td>214198</td>\n",
       "      <td>214198</td>\n",
       "      <td>45</td>\n",
       "      <td>19648</td>\n",
       "    </tr>\n",
       "    <tr>\n",
       "      <td>214199</td>\n",
       "      <td>214199</td>\n",
       "      <td>45</td>\n",
       "      <td>969</td>\n",
       "    </tr>\n",
       "  </tbody>\n",
       "</table>\n",
       "<p>214200 rows × 3 columns</p>\n",
       "</div>"
      ],
      "text/plain": [
       "            ID  shop_id  item_id\n",
       "0            0        5     5037\n",
       "1            1        5     5320\n",
       "2            2        5     5233\n",
       "3            3        5     5232\n",
       "4            4        5     5268\n",
       "...        ...      ...      ...\n",
       "214195  214195       45    18454\n",
       "214196  214196       45    16188\n",
       "214197  214197       45    15757\n",
       "214198  214198       45    19648\n",
       "214199  214199       45      969\n",
       "\n",
       "[214200 rows x 3 columns]"
      ]
     },
     "execution_count": 10,
     "metadata": {},
     "output_type": "execute_result"
    }
   ],
   "source": [
    "test"
   ]
  },
  {
   "cell_type": "code",
   "execution_count": 14,
   "metadata": {},
   "outputs": [
    {
     "data": {
      "text/plain": [
       "(214200, 4)"
      ]
     },
     "execution_count": 14,
     "metadata": {},
     "output_type": "execute_result"
    }
   ],
   "source": [
    "test1 = pd.merge(test,Xtrain[[\"shop_id\",\"town\"]].drop_duplicates(),how = \"left\",on = \"shop_id\")\n",
    "test1.shape"
   ]
  },
  {
   "cell_type": "code",
   "execution_count": 15,
   "metadata": {},
   "outputs": [
    {
     "data": {
      "text/plain": [
       "(214200, 6)"
      ]
     },
     "execution_count": 15,
     "metadata": {},
     "output_type": "execute_result"
    }
   ],
   "source": [
    "test2 = pd.merge(test1,Xtrain[[\"item_id\",\"item_category_id\",\"meta_category\"]].drop_duplicates(),how = \"left\",on=\"item_id\")\n",
    "test2.shape"
   ]
  },
  {
   "cell_type": "code",
   "execution_count": 19,
   "metadata": {},
   "outputs": [
    {
     "name": "stdout",
     "output_type": "stream",
     "text": [
      "After adding month -1:\n",
      "(28680, 7)\n",
      "After adding month -2:\n",
      "(29197, 7)\n",
      "After adding month -3:\n",
      "(29354, 7)\n",
      "After adding month -4:\n",
      "(29449, 7)\n",
      "After adding month -5:\n",
      "(29513, 7)\n",
      "After adding month -6:\n",
      "(29558, 7)\n",
      "After adding prices only according to item_id:\n",
      "(198963, 7)\n"
     ]
    }
   ],
   "source": [
    "part1 = pd.merge(test2,Xtrain[[\"item_id\",\"shop_id\",\"item_price\"]][Xtrain[\"date_block_num\"]==33].drop_duplicates().groupby([\"item_id\",\"shop_id\"],as_index=False).max(), how=\"left\",on=[\"shop_id\",\"item_id\"]).dropna()\n",
    "part2 = pd.merge(test2,Xtrain[[\"item_id\",\"shop_id\",\"item_price\"]][Xtrain[\"date_block_num\"]==32].drop_duplicates(), how=\"left\",on=[\"shop_id\",\"item_id\"]).dropna()\n",
    "part3 = pd.merge(test2,Xtrain[[\"item_id\",\"shop_id\",\"item_price\"]][Xtrain[\"date_block_num\"]==31].drop_duplicates(), how=\"left\",on=[\"shop_id\",\"item_id\"]).dropna()\n",
    "part4 = pd.merge(test2,Xtrain[[\"item_id\",\"shop_id\",\"item_price\"]][Xtrain[\"date_block_num\"]==30].drop_duplicates(), how=\"left\",on=[\"shop_id\",\"item_id\"]).dropna()\n",
    "part5 = pd.merge(test2,Xtrain[[\"item_id\",\"shop_id\",\"item_price\"]][Xtrain[\"date_block_num\"]==29].drop_duplicates(), how=\"left\",on=[\"shop_id\",\"item_id\"]).dropna()\n",
    "part6 = pd.merge(test2,Xtrain[[\"item_id\",\"shop_id\",\"item_price\"]][Xtrain[\"date_block_num\"]==28].drop_duplicates(), how=\"left\",on=[\"shop_id\",\"item_id\"]).dropna()\n",
    "# half a year should be enough\n",
    "\n",
    "# For non-existing pairs lets use the average price of items\n",
    "part7 = pd.merge(test2,Xtrain[[\"item_id\",\"item_price\"]].drop_duplicates().groupby(\"item_id\").mean(), how=\"left\",on=[\"item_id\"]).dropna()\n",
    "\n",
    "# Now join together. Tricky. Only one value needed. Strict order. Part 1 better than part2, i.e. if \n",
    "# part 1 exists dont add part 2 and so forth\n",
    "prices=part1\n",
    "print(\"After adding month -1:\")\n",
    "print(prices.shape)\n",
    "ids=prices.item_id\n",
    "prices=pd.concat([prices,part2[~part2.item_id.isin(ids)]])\n",
    "print(\"After adding month -2:\")\n",
    "print(prices.shape)\n",
    "ids=prices.item_id\n",
    "prices=pd.concat([prices,part3[~part3.item_id.isin(ids)]])\n",
    "print(\"After adding month -3:\")\n",
    "print(prices.shape)\n",
    "ids=prices.item_id\n",
    "prices=pd.concat([prices,part4[~part4.item_id.isin(ids)]])\n",
    "print(\"After adding month -4:\")\n",
    "print(prices.shape)\n",
    "ids=prices.item_id\n",
    "prices=pd.concat([prices,part5[~part5.item_id.isin(ids)]])\n",
    "print(\"After adding month -5:\")\n",
    "print(prices.shape)\n",
    "ids=prices.item_id\n",
    "prices=pd.concat([prices,part6[~part6.item_id.isin(ids)]])\n",
    "ids=prices.item_id\n",
    "print(\"After adding month -6:\")\n",
    "print(prices.shape)\n",
    "\n",
    "prices[\"shop_item_pair_id\"]=prices.shop_id.astype(str)+\"-\"+prices.item_id.astype(str)\n",
    "part7[\"shop_item_pair_id\"]=part7.shop_id.astype(str)+\"-\"+part7.item_id.astype(str)\n",
    "prices=pd.concat([prices,part7[~part7.shop_item_pair_id.isin(prices.shop_item_pair_id)]])\n",
    "prices.drop(\"shop_item_pair_id\", axis=1,inplace=True)\n",
    "print(\"After adding prices only according to item_id:\")\n",
    "print(prices.shape)\n",
    "\n",
    "# Merge with original DF to include also the 15k lines with unknown items\n",
    "final_test=pd.merge(test2, prices[[\"shop_id\",\"item_id\",\"item_price\"]], how=\"left\",on=[\"shop_id\",\"item_id\"])\n",
    "final_test=final_test.groupby([\"ID\"],as_index=False).max()\n",
    "\n",
    "# Lets add the month and price_category\n",
    "final_test[\"date_block_num\"]=34\n",
    "final_test[\"month\"]=11"
   ]
  },
  {
   "cell_type": "code",
   "execution_count": 20,
   "metadata": {},
   "outputs": [
    {
     "data": {
      "text/plain": [
       "(214200, 9)"
      ]
     },
     "execution_count": 20,
     "metadata": {},
     "output_type": "execute_result"
    }
   ],
   "source": [
    "final_test.shape"
   ]
  },
  {
   "cell_type": "code",
   "execution_count": 21,
   "metadata": {},
   "outputs": [
    {
     "name": "stdout",
     "output_type": "stream",
     "text": [
      "    ID  shop_id  item_id  town  item_category_id  meta_category  item_price  \\\n",
      "1    1        5     5320    28               NaN            NaN         NaN   \n",
      "4    4        5     5268    28               NaN            NaN         NaN   \n",
      "45  45        5     5826    28               NaN            NaN         NaN   \n",
      "64  64        5     3538    28               NaN            NaN         NaN   \n",
      "65  65        5     3571    28               NaN            NaN         NaN   \n",
      "\n",
      "    date_block_num  month  \n",
      "1               34     11  \n",
      "4               34     11  \n",
      "45              34     11  \n",
      "64              34     11  \n",
      "65              34     11  \n",
      "Empty DataFrame\n",
      "Columns: [ID, shop_id, item_id, town, item_category_id, meta_category, item_price, date_block_num, month]\n",
      "Index: []\n",
      "(214200, 9)\n"
     ]
    }
   ],
   "source": [
    "print(final_test[final_test[\"item_price\"].isnull()].head())\n",
    "# 15k lines of new items. Fill with global price median\n",
    "final_test.item_price.fillna(final_test.item_price.median(),inplace=True)\n",
    "final_test.item_category_id.fillna(final_test.item_category_id.median(),inplace=True)\n",
    "final_test.meta_category.fillna(final_test.meta_category.median(),inplace=True)\n",
    "print(final_test[final_test[\"item_price\"].isnull()])\n",
    "print(final_test.shape)"
   ]
  },
  {
   "cell_type": "code",
   "execution_count": 22,
   "metadata": {},
   "outputs": [
    {
     "data": {
      "text/plain": [
       "(Index(['date_block_num', 'shop_id', 'item_id', 'month', 'item_price',\n",
       "        'item_category_id', 'meta_category', 'town'],\n",
       "       dtype='object'),\n",
       " Index(['ID', 'shop_id', 'item_id', 'town', 'item_category_id', 'meta_category',\n",
       "        'item_price', 'date_block_num', 'month'],\n",
       "       dtype='object'))"
      ]
     },
     "execution_count": 22,
     "metadata": {},
     "output_type": "execute_result"
    }
   ],
   "source": [
    "Xtrain.columns,final_test.columns"
   ]
  },
  {
   "cell_type": "code",
   "execution_count": 23,
   "metadata": {},
   "outputs": [],
   "source": [
    "final_test = final_test[[\"ID\",\"date_block_num\",\"shop_id\",\"item_id\",'month',\"item_price\",\"item_category_id\",\"meta_category\",\"town\"]]"
   ]
  },
  {
   "cell_type": "code",
   "execution_count": 24,
   "metadata": {},
   "outputs": [
    {
     "data": {
      "text/plain": [
       "Index(['ID', 'date_block_num', 'shop_id', 'item_id', 'month', 'item_price',\n",
       "       'item_category_id', 'meta_category', 'town'],\n",
       "      dtype='object')"
      ]
     },
     "execution_count": 24,
     "metadata": {},
     "output_type": "execute_result"
    }
   ],
   "source": [
    "final_test.columns"
   ]
  },
  {
   "cell_type": "code",
   "execution_count": 32,
   "metadata": {},
   "outputs": [
    {
     "data": {
      "text/plain": [
       "0          6.0\n",
       "1          3.0\n",
       "2          1.0\n",
       "3          1.0\n",
       "4          1.0\n",
       "          ... \n",
       "1739017    6.0\n",
       "1739018    2.0\n",
       "1739019    1.0\n",
       "1739020    1.0\n",
       "1739021    1.0\n",
       "Name: item_cnt_month, Length: 1739022, dtype: float64"
      ]
     },
     "execution_count": 32,
     "metadata": {},
     "output_type": "execute_result"
    }
   ],
   "source": [
    "ytrain"
   ]
  },
  {
   "cell_type": "code",
   "execution_count": 25,
   "metadata": {},
   "outputs": [
    {
     "data": {
      "text/plain": [
       "RandomForestRegressor(bootstrap=True, criterion='mse', max_depth=None,\n",
       "                      max_features='auto', max_leaf_nodes=None,\n",
       "                      min_impurity_decrease=0.0, min_impurity_split=None,\n",
       "                      min_samples_leaf=1, min_samples_split=2,\n",
       "                      min_weight_fraction_leaf=0.0, n_estimators=10,\n",
       "                      n_jobs=None, oob_score=False, random_state=None,\n",
       "                      verbose=0, warm_start=False)"
      ]
     },
     "execution_count": 25,
     "metadata": {},
     "output_type": "execute_result"
    }
   ],
   "source": [
    "from sklearn.ensemble import RandomForestRegressor\n",
    "\n",
    "rfr = RandomForestRegressor(n_estimators=10)\n",
    "rfr.fit(Xtrain,ytrain)"
   ]
  },
  {
   "cell_type": "code",
   "execution_count": 63,
   "metadata": {},
   "outputs": [
    {
     "name": "stdout",
     "output_type": "stream",
     "text": [
      "1.436471772496291\n"
     ]
    }
   ],
   "source": [
    "from sklearn.metrics import mean_squared_error\n",
    "\n",
    "i = 0\n",
    "rfr = RandomForestRegressor(n_estimators=20)\n",
    "Xt = Xtrain[Xtrain['date_block_num']<((i*12)+10)]\n",
    "yt = ytrain[Xt.index]\n",
    "Xval = Xtrain[Xtrain['date_block_num'] == ((i*12)+10)]\n",
    "yval = ytrain[Xval.index]\n",
    "rfr.fit(Xt,yt)\n",
    "ypred = rfr.predict(Xt)\n",
    "print(np.sqrt(mean_squared_error(yt,ypred)))"
   ]
  },
  {
   "cell_type": "code",
   "execution_count": 61,
   "metadata": {},
   "outputs": [
    {
     "name": "stdout",
     "output_type": "stream",
     "text": [
      "[11:42:08] WARNING: /home/conda/feedstock_root/build_artifacts/xgboost_1588600955503/work/src/learner.cc:328: \n",
      "Parameters: { num_round, silent } might not be used.\n",
      "\n",
      "  This may not be accurate due to some parameters are only used in language bindings but\n",
      "  passed down to XGBoost core.  Or some parameters are not used but slip through this\n",
      "  verification. Please open an issue if you find above cases.\n",
      "\n",
      "\n",
      "4.987439128915999\n"
     ]
    }
   ],
   "source": [
    "import xgboost as xgb\n",
    "param = {'max_depth':10, \n",
    "         'subsample':0.5,\n",
    "         'min_child_weight':1,\n",
    "         'eta':0.5, \n",
    "         'num_round':1000, \n",
    "         'seed':1,\n",
    "         'silent':0,\n",
    "         'eval_metric':'rmse'}\n",
    "\n",
    "progress = dict()\n",
    "i = 0\n",
    "Xt = Xtrain[Xtrain['date_block_num']<((i*12)+10)]\n",
    "yt = ytrain[Xt.index]\n",
    "Xval = Xtrain[Xtrain['date_block_num'] == ((i*12)+10)]\n",
    "yval = ytrain[Xval.index]\n",
    "xgbtrain = xgb.DMatrix(Xt, yt)\n",
    "watchlist  = [(xgbtrain,'train-rmse')]\n",
    "\n",
    "bst = xgb.train(param, xgbtrain)\n",
    "preds = bst.predict(xgb.DMatrix(Xval))\n",
    "\n",
    "print(np.sqrt(mean_squared_error(preds,yval)))"
   ]
  },
  {
   "cell_type": "code",
   "execution_count": 62,
   "metadata": {},
   "outputs": [
    {
     "name": "stdout",
     "output_type": "stream",
     "text": [
      "[11:42:13] WARNING: /home/conda/feedstock_root/build_artifacts/xgboost_1588600955503/work/src/learner.cc:328: \n",
      "Parameters: { num_round, silent } might not be used.\n",
      "\n",
      "  This may not be accurate due to some parameters are only used in language bindings but\n",
      "  passed down to XGBoost core.  Or some parameters are not used but slip through this\n",
      "  verification. Please open an issue if you find above cases.\n",
      "\n",
      "\n",
      "8.16491140182803\n"
     ]
    }
   ],
   "source": [
    "i = 1\n",
    "Xt = Xtrain[Xtrain['date_block_num']<((i*12)+10)]\n",
    "yt = ytrain[Xt.index]\n",
    "Xval = Xtrain[Xtrain['date_block_num'] == ((i*12)+10)]\n",
    "yval = ytrain[Xval.index]\n",
    "xgbtrain = xgb.DMatrix(Xt, yt)\n",
    "watchlist  = [(xgbtrain,'train-rmse')]\n",
    "\n",
    "bst = xgb.train(param, xgbtrain)\n",
    "preds = bst.predict(xgb.DMatrix(Xval))\n",
    "\n",
    "print(np.sqrt(mean_squared_error(yval,preds)))"
   ]
  },
  {
   "cell_type": "code",
   "execution_count": 26,
   "metadata": {},
   "outputs": [],
   "source": [
    "ypred = rfr.predict(final_test.drop(\"ID\",axis = 1))"
   ]
  },
  {
   "cell_type": "code",
   "execution_count": 28,
   "metadata": {},
   "outputs": [
    {
     "data": {
      "text/plain": [
       "(214200,)"
      ]
     },
     "execution_count": 28,
     "metadata": {},
     "output_type": "execute_result"
    }
   ],
   "source": [
    "ypred.shape"
   ]
  },
  {
   "cell_type": "code",
   "execution_count": 29,
   "metadata": {},
   "outputs": [],
   "source": [
    "sub = pd.DataFrame()\n",
    "sub[\"ID\"] = [i for i in range(214200)]\n",
    "sub[\"item_cnt_month\"] = ypred"
   ]
  },
  {
   "cell_type": "code",
   "execution_count": 30,
   "metadata": {},
   "outputs": [
    {
     "data": {
      "text/html": [
       "<div>\n",
       "<style scoped>\n",
       "    .dataframe tbody tr th:only-of-type {\n",
       "        vertical-align: middle;\n",
       "    }\n",
       "\n",
       "    .dataframe tbody tr th {\n",
       "        vertical-align: top;\n",
       "    }\n",
       "\n",
       "    .dataframe thead th {\n",
       "        text-align: right;\n",
       "    }\n",
       "</style>\n",
       "<table border=\"1\" class=\"dataframe\">\n",
       "  <thead>\n",
       "    <tr style=\"text-align: right;\">\n",
       "      <th></th>\n",
       "      <th>ID</th>\n",
       "      <th>item_cnt_month</th>\n",
       "    </tr>\n",
       "  </thead>\n",
       "  <tbody>\n",
       "    <tr>\n",
       "      <td>0</td>\n",
       "      <td>0</td>\n",
       "      <td>1.0</td>\n",
       "    </tr>\n",
       "    <tr>\n",
       "      <td>1</td>\n",
       "      <td>1</td>\n",
       "      <td>1.0</td>\n",
       "    </tr>\n",
       "    <tr>\n",
       "      <td>2</td>\n",
       "      <td>2</td>\n",
       "      <td>1.0</td>\n",
       "    </tr>\n",
       "    <tr>\n",
       "      <td>3</td>\n",
       "      <td>3</td>\n",
       "      <td>1.2</td>\n",
       "    </tr>\n",
       "    <tr>\n",
       "      <td>4</td>\n",
       "      <td>4</td>\n",
       "      <td>1.0</td>\n",
       "    </tr>\n",
       "    <tr>\n",
       "      <td>...</td>\n",
       "      <td>...</td>\n",
       "      <td>...</td>\n",
       "    </tr>\n",
       "    <tr>\n",
       "      <td>214195</td>\n",
       "      <td>214195</td>\n",
       "      <td>1.0</td>\n",
       "    </tr>\n",
       "    <tr>\n",
       "      <td>214196</td>\n",
       "      <td>214196</td>\n",
       "      <td>1.5</td>\n",
       "    </tr>\n",
       "    <tr>\n",
       "      <td>214197</td>\n",
       "      <td>214197</td>\n",
       "      <td>1.2</td>\n",
       "    </tr>\n",
       "    <tr>\n",
       "      <td>214198</td>\n",
       "      <td>214198</td>\n",
       "      <td>1.0</td>\n",
       "    </tr>\n",
       "    <tr>\n",
       "      <td>214199</td>\n",
       "      <td>214199</td>\n",
       "      <td>1.2</td>\n",
       "    </tr>\n",
       "  </tbody>\n",
       "</table>\n",
       "<p>214200 rows × 2 columns</p>\n",
       "</div>"
      ],
      "text/plain": [
       "            ID  item_cnt_month\n",
       "0            0             1.0\n",
       "1            1             1.0\n",
       "2            2             1.0\n",
       "3            3             1.2\n",
       "4            4             1.0\n",
       "...        ...             ...\n",
       "214195  214195             1.0\n",
       "214196  214196             1.5\n",
       "214197  214197             1.2\n",
       "214198  214198             1.0\n",
       "214199  214199             1.2\n",
       "\n",
       "[214200 rows x 2 columns]"
      ]
     },
     "execution_count": 30,
     "metadata": {},
     "output_type": "execute_result"
    }
   ],
   "source": [
    "sub.to_csv(\"sub5.csv\",index = False)"
   ]
  },
  {
   "cell_type": "code",
   "execution_count": null,
   "metadata": {},
   "outputs": [],
   "source": []
  }
 ],
 "metadata": {
  "kernelspec": {
   "display_name": "Python 3",
   "language": "python",
   "name": "python3"
  },
  "language_info": {
   "codemirror_mode": {
    "name": "ipython",
    "version": 3
   },
   "file_extension": ".py",
   "mimetype": "text/x-python",
   "name": "python",
   "nbconvert_exporter": "python",
   "pygments_lexer": "ipython3",
   "version": "3.7.4"
  }
 },
 "nbformat": 4,
 "nbformat_minor": 2
}
